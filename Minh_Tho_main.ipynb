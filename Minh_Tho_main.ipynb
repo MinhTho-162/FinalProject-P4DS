{
 "cells": [
  {
   "cell_type": "markdown",
   "id": "d40e2030",
   "metadata": {},
   "source": [
    "# Đồ Án Cuối Kì Môn Lập Trình Cho Khoa Học Dữ Liệu\n",
    "\n",
    "**Chủ đề: .**\n",
    "\n",
    "Cảm hứng, ý tưởng \n",
    "\n",
    "\n",
    "\n",
    "**Giới thiệu thành viên**\n",
    "\n",
    "- *Họ tên:* **Trần Ngọc Tịnh**       \n",
    "  *MSSV:* **18120597**\n",
    "  \n",
    "  \n",
    "  \n",
    "  \n",
    "- *Họ tên:* **Đặng Minh Thọ**       \n",
    "  *MSSV:* **1812679**\n",
    "  \n",
    "  \n",
    " \n",
    "  "
   ]
  },
  {
   "cell_type": "markdown",
   "id": "d2ad4763",
   "metadata": {},
   "source": [
    "### Môi trường code"
   ]
  },
  {
   "cell_type": "code",
   "execution_count": 1,
   "id": "81cb2760",
   "metadata": {},
   "outputs": [
    {
     "name": "stdout",
     "output_type": "stream",
     "text": [
      "/home/minhtho/anaconda3/envs/p4ds-env/bin/python\r\n"
     ]
    }
   ],
   "source": [
    "!which python "
   ]
  },
  {
   "cell_type": "code",
   "execution_count": 2,
   "id": "5522c3f4",
   "metadata": {},
   "outputs": [],
   "source": [
    "import pandas as pd\n",
    "import matplotlib.pyplot as plt\n",
    "import numpy as np"
   ]
  },
  {
   "cell_type": "markdown",
   "id": "2bc31b34",
   "metadata": {},
   "source": [
    "## Thu thập dữ liệu\n",
    "\n",
    "Trong đồ án cuối kì này, em sẽ sử dụng dữ liệu đã được thu thập sẵn được tìm thấy thông qua  Kaggle. Đây là dữ liệu về khí thải Carbon Dioxide (CO2) của các quốc gia trên thế giới, đây là một trong những khí chính gây ra hiện tượng hiệu ứng nhà kính hiện nay . Dữ liệu này đã được thu thập sẵn, nguồn gốc của dữ liệu ở trang web [ourworldindata](https://ourworldindata.org/)."
   ]
  },
  {
   "cell_type": "markdown",
   "id": "59c758c0",
   "metadata": {},
   "source": [
    "## Khám phá dữ liệu"
   ]
  },
  {
   "cell_type": "markdown",
   "id": "6b486545",
   "metadata": {},
   "source": [
    "### Đọc dữ liệu từ file csv vào dataframe"
   ]
  },
  {
   "cell_type": "code",
   "execution_count": 3,
   "id": "dc5b531f",
   "metadata": {},
   "outputs": [
    {
     "data": {
      "text/html": [
       "<div>\n",
       "<style scoped>\n",
       "    .dataframe tbody tr th:only-of-type {\n",
       "        vertical-align: middle;\n",
       "    }\n",
       "\n",
       "    .dataframe tbody tr th {\n",
       "        vertical-align: top;\n",
       "    }\n",
       "\n",
       "    .dataframe thead th {\n",
       "        text-align: right;\n",
       "    }\n",
       "</style>\n",
       "<table border=\"1\" class=\"dataframe\">\n",
       "  <thead>\n",
       "    <tr style=\"text-align: right;\">\n",
       "      <th></th>\n",
       "      <th>Entity</th>\n",
       "      <th>Code</th>\n",
       "      <th>Year</th>\n",
       "      <th>Annual CO₂ emissions (tonnes )</th>\n",
       "    </tr>\n",
       "  </thead>\n",
       "  <tbody>\n",
       "    <tr>\n",
       "      <th>0</th>\n",
       "      <td>Afghanistan</td>\n",
       "      <td>AFG</td>\n",
       "      <td>1949</td>\n",
       "      <td>14656.0</td>\n",
       "    </tr>\n",
       "    <tr>\n",
       "      <th>1</th>\n",
       "      <td>Afghanistan</td>\n",
       "      <td>AFG</td>\n",
       "      <td>1950</td>\n",
       "      <td>84272.0</td>\n",
       "    </tr>\n",
       "    <tr>\n",
       "      <th>2</th>\n",
       "      <td>Afghanistan</td>\n",
       "      <td>AFG</td>\n",
       "      <td>1951</td>\n",
       "      <td>91600.0</td>\n",
       "    </tr>\n",
       "    <tr>\n",
       "      <th>3</th>\n",
       "      <td>Afghanistan</td>\n",
       "      <td>AFG</td>\n",
       "      <td>1952</td>\n",
       "      <td>91600.0</td>\n",
       "    </tr>\n",
       "    <tr>\n",
       "      <th>4</th>\n",
       "      <td>Afghanistan</td>\n",
       "      <td>AFG</td>\n",
       "      <td>1953</td>\n",
       "      <td>106256.0</td>\n",
       "    </tr>\n",
       "  </tbody>\n",
       "</table>\n",
       "</div>"
      ],
      "text/plain": [
       "        Entity Code  Year  Annual CO₂ emissions (tonnes )\n",
       "0  Afghanistan  AFG  1949                         14656.0\n",
       "1  Afghanistan  AFG  1950                         84272.0\n",
       "2  Afghanistan  AFG  1951                         91600.0\n",
       "3  Afghanistan  AFG  1952                         91600.0\n",
       "4  Afghanistan  AFG  1953                        106256.0"
      ]
     },
     "execution_count": 3,
     "metadata": {},
     "output_type": "execute_result"
    }
   ],
   "source": [
    "co2_df = pd.read_csv('co2_emission.csv')\n",
    "co2_df.head()"
   ]
  },
  {
   "cell_type": "code",
   "execution_count": 4,
   "id": "956e0754",
   "metadata": {},
   "outputs": [
    {
     "data": {
      "text/html": [
       "<div>\n",
       "<style scoped>\n",
       "    .dataframe tbody tr th:only-of-type {\n",
       "        vertical-align: middle;\n",
       "    }\n",
       "\n",
       "    .dataframe tbody tr th {\n",
       "        vertical-align: top;\n",
       "    }\n",
       "\n",
       "    .dataframe thead th {\n",
       "        text-align: right;\n",
       "    }\n",
       "</style>\n",
       "<table border=\"1\" class=\"dataframe\">\n",
       "  <thead>\n",
       "    <tr style=\"text-align: right;\">\n",
       "      <th></th>\n",
       "      <th>Country</th>\n",
       "      <th>Country_Code</th>\n",
       "      <th>Year_1960</th>\n",
       "      <th>Year_1961</th>\n",
       "      <th>Year_1962</th>\n",
       "      <th>Year_1963</th>\n",
       "      <th>Year_1964</th>\n",
       "      <th>Year_1965</th>\n",
       "      <th>Year_1966</th>\n",
       "      <th>Year_1967</th>\n",
       "      <th>...</th>\n",
       "      <th>Year_2007</th>\n",
       "      <th>Year_2008</th>\n",
       "      <th>Year_2009</th>\n",
       "      <th>Year_2010</th>\n",
       "      <th>Year_2011</th>\n",
       "      <th>Year_2012</th>\n",
       "      <th>Year_2013</th>\n",
       "      <th>Year_2014</th>\n",
       "      <th>Year_2015</th>\n",
       "      <th>Year_2016</th>\n",
       "    </tr>\n",
       "  </thead>\n",
       "  <tbody>\n",
       "    <tr>\n",
       "      <th>0</th>\n",
       "      <td>Aruba</td>\n",
       "      <td>ABW</td>\n",
       "      <td>54211.0</td>\n",
       "      <td>55438.0</td>\n",
       "      <td>56225.0</td>\n",
       "      <td>56695.0</td>\n",
       "      <td>57032.0</td>\n",
       "      <td>57360.0</td>\n",
       "      <td>57715.0</td>\n",
       "      <td>58055.0</td>\n",
       "      <td>...</td>\n",
       "      <td>101220.0</td>\n",
       "      <td>101353.0</td>\n",
       "      <td>101453.0</td>\n",
       "      <td>101669.0</td>\n",
       "      <td>102053.0</td>\n",
       "      <td>102577.0</td>\n",
       "      <td>103187.0</td>\n",
       "      <td>103795.0</td>\n",
       "      <td>104341.0</td>\n",
       "      <td>104822.0</td>\n",
       "    </tr>\n",
       "    <tr>\n",
       "      <th>1</th>\n",
       "      <td>Afghanistan</td>\n",
       "      <td>AFG</td>\n",
       "      <td>8996351.0</td>\n",
       "      <td>9166764.0</td>\n",
       "      <td>9345868.0</td>\n",
       "      <td>9533954.0</td>\n",
       "      <td>9731361.0</td>\n",
       "      <td>9938414.0</td>\n",
       "      <td>10152331.0</td>\n",
       "      <td>10372630.0</td>\n",
       "      <td>...</td>\n",
       "      <td>26616792.0</td>\n",
       "      <td>27294031.0</td>\n",
       "      <td>28004331.0</td>\n",
       "      <td>28803167.0</td>\n",
       "      <td>29708599.0</td>\n",
       "      <td>30696958.0</td>\n",
       "      <td>31731688.0</td>\n",
       "      <td>32758020.0</td>\n",
       "      <td>33736494.0</td>\n",
       "      <td>34656032.0</td>\n",
       "    </tr>\n",
       "    <tr>\n",
       "      <th>2</th>\n",
       "      <td>Angola</td>\n",
       "      <td>AGO</td>\n",
       "      <td>5643182.0</td>\n",
       "      <td>5753024.0</td>\n",
       "      <td>5866061.0</td>\n",
       "      <td>5980417.0</td>\n",
       "      <td>6093321.0</td>\n",
       "      <td>6203299.0</td>\n",
       "      <td>6309770.0</td>\n",
       "      <td>6414995.0</td>\n",
       "      <td>...</td>\n",
       "      <td>20997687.0</td>\n",
       "      <td>21759420.0</td>\n",
       "      <td>22549547.0</td>\n",
       "      <td>23369131.0</td>\n",
       "      <td>24218565.0</td>\n",
       "      <td>25096150.0</td>\n",
       "      <td>25998340.0</td>\n",
       "      <td>26920466.0</td>\n",
       "      <td>27859305.0</td>\n",
       "      <td>28813463.0</td>\n",
       "    </tr>\n",
       "    <tr>\n",
       "      <th>3</th>\n",
       "      <td>Albania</td>\n",
       "      <td>ALB</td>\n",
       "      <td>1608800.0</td>\n",
       "      <td>1659800.0</td>\n",
       "      <td>1711319.0</td>\n",
       "      <td>1762621.0</td>\n",
       "      <td>1814135.0</td>\n",
       "      <td>1864791.0</td>\n",
       "      <td>1914573.0</td>\n",
       "      <td>1965598.0</td>\n",
       "      <td>...</td>\n",
       "      <td>2970017.0</td>\n",
       "      <td>2947314.0</td>\n",
       "      <td>2927519.0</td>\n",
       "      <td>2913021.0</td>\n",
       "      <td>2905195.0</td>\n",
       "      <td>2900401.0</td>\n",
       "      <td>2895092.0</td>\n",
       "      <td>2889104.0</td>\n",
       "      <td>2880703.0</td>\n",
       "      <td>2876101.0</td>\n",
       "    </tr>\n",
       "    <tr>\n",
       "      <th>4</th>\n",
       "      <td>Andorra</td>\n",
       "      <td>AND</td>\n",
       "      <td>13411.0</td>\n",
       "      <td>14375.0</td>\n",
       "      <td>15370.0</td>\n",
       "      <td>16412.0</td>\n",
       "      <td>17469.0</td>\n",
       "      <td>18549.0</td>\n",
       "      <td>19647.0</td>\n",
       "      <td>20758.0</td>\n",
       "      <td>...</td>\n",
       "      <td>82683.0</td>\n",
       "      <td>83861.0</td>\n",
       "      <td>84462.0</td>\n",
       "      <td>84449.0</td>\n",
       "      <td>83751.0</td>\n",
       "      <td>82431.0</td>\n",
       "      <td>80788.0</td>\n",
       "      <td>79223.0</td>\n",
       "      <td>78014.0</td>\n",
       "      <td>77281.0</td>\n",
       "    </tr>\n",
       "  </tbody>\n",
       "</table>\n",
       "<p>5 rows × 59 columns</p>\n",
       "</div>"
      ],
      "text/plain": [
       "       Country Country_Code  Year_1960  Year_1961  Year_1962  Year_1963  \\\n",
       "0        Aruba          ABW    54211.0    55438.0    56225.0    56695.0   \n",
       "1  Afghanistan          AFG  8996351.0  9166764.0  9345868.0  9533954.0   \n",
       "2       Angola          AGO  5643182.0  5753024.0  5866061.0  5980417.0   \n",
       "3      Albania          ALB  1608800.0  1659800.0  1711319.0  1762621.0   \n",
       "4      Andorra          AND    13411.0    14375.0    15370.0    16412.0   \n",
       "\n",
       "   Year_1964  Year_1965   Year_1966   Year_1967  ...   Year_2007   Year_2008  \\\n",
       "0    57032.0    57360.0     57715.0     58055.0  ...    101220.0    101353.0   \n",
       "1  9731361.0  9938414.0  10152331.0  10372630.0  ...  26616792.0  27294031.0   \n",
       "2  6093321.0  6203299.0   6309770.0   6414995.0  ...  20997687.0  21759420.0   \n",
       "3  1814135.0  1864791.0   1914573.0   1965598.0  ...   2970017.0   2947314.0   \n",
       "4    17469.0    18549.0     19647.0     20758.0  ...     82683.0     83861.0   \n",
       "\n",
       "    Year_2009   Year_2010   Year_2011   Year_2012   Year_2013   Year_2014  \\\n",
       "0    101453.0    101669.0    102053.0    102577.0    103187.0    103795.0   \n",
       "1  28004331.0  28803167.0  29708599.0  30696958.0  31731688.0  32758020.0   \n",
       "2  22549547.0  23369131.0  24218565.0  25096150.0  25998340.0  26920466.0   \n",
       "3   2927519.0   2913021.0   2905195.0   2900401.0   2895092.0   2889104.0   \n",
       "4     84462.0     84449.0     83751.0     82431.0     80788.0     79223.0   \n",
       "\n",
       "    Year_2015   Year_2016  \n",
       "0    104341.0    104822.0  \n",
       "1  33736494.0  34656032.0  \n",
       "2  27859305.0  28813463.0  \n",
       "3   2880703.0   2876101.0  \n",
       "4     78014.0     77281.0  \n",
       "\n",
       "[5 rows x 59 columns]"
      ]
     },
     "execution_count": 4,
     "metadata": {},
     "output_type": "execute_result"
    }
   ],
   "source": [
    "pop_df = pd.read_csv('population.csv')\n",
    "pop_df.head()"
   ]
  },
  {
   "cell_type": "markdown",
   "id": "2521d1d9",
   "metadata": {},
   "source": [
    "### Dữ liệu gồm có bao nhiêu dòng và bao nhiêu cột?"
   ]
  },
  {
   "cell_type": "code",
   "execution_count": 5,
   "id": "9c9ba1e2",
   "metadata": {},
   "outputs": [
    {
     "data": {
      "text/plain": [
       "(20853, 4)"
      ]
     },
     "execution_count": 5,
     "metadata": {},
     "output_type": "execute_result"
    }
   ],
   "source": [
    "co2_df.shape"
   ]
  },
  {
   "cell_type": "code",
   "execution_count": 6,
   "id": "cbef2b46",
   "metadata": {},
   "outputs": [
    {
     "data": {
      "text/plain": [
       "(263, 59)"
      ]
     },
     "execution_count": 6,
     "metadata": {},
     "output_type": "execute_result"
    }
   ],
   "source": [
    "pop_df.shape"
   ]
  },
  {
   "cell_type": "markdown",
   "id": "957818ed",
   "metadata": {},
   "source": [
    "### Mỗi dòng có ý nghĩa gì? Có vấn đề các dòng có ý nghĩa khác nhau không?"
   ]
  },
  {
   "cell_type": "markdown",
   "id": "bd0b7f26",
   "metadata": {},
   "source": [
    "- Tập dữ liệu `Co2`:\n",
    "    - Mỗi dòng cho biết các thông tin của một quốc gia liên quan đến các ảnh hưởng của khí Co2 trong một năm.\n",
    "    \n",
    "- Tập dữ liệu `Population`:\n",
    "    - Mỗi dòng cho biết các thông tin của một quốc gia liên quan đến các ảnh hưởng của khí Co2 trong 57 năm từ 1960 đến 2016.\n",
    "    "
   ]
  },
  {
   "cell_type": "code",
   "execution_count": 7,
   "id": "a5e5954e",
   "metadata": {},
   "outputs": [
    {
     "data": {
      "text/html": [
       "<div>\n",
       "<style scoped>\n",
       "    .dataframe tbody tr th:only-of-type {\n",
       "        vertical-align: middle;\n",
       "    }\n",
       "\n",
       "    .dataframe tbody tr th {\n",
       "        vertical-align: top;\n",
       "    }\n",
       "\n",
       "    .dataframe thead th {\n",
       "        text-align: right;\n",
       "    }\n",
       "</style>\n",
       "<table border=\"1\" class=\"dataframe\">\n",
       "  <thead>\n",
       "    <tr style=\"text-align: right;\">\n",
       "      <th></th>\n",
       "      <th>Country</th>\n",
       "      <th>Country_Code</th>\n",
       "      <th>Year</th>\n",
       "      <th>Population</th>\n",
       "    </tr>\n",
       "  </thead>\n",
       "  <tbody>\n",
       "    <tr>\n",
       "      <th>0</th>\n",
       "      <td>Aruba</td>\n",
       "      <td>ABW</td>\n",
       "      <td>Year_1960</td>\n",
       "      <td>54211.0</td>\n",
       "    </tr>\n",
       "    <tr>\n",
       "      <th>1</th>\n",
       "      <td>Afghanistan</td>\n",
       "      <td>AFG</td>\n",
       "      <td>Year_1960</td>\n",
       "      <td>8996351.0</td>\n",
       "    </tr>\n",
       "    <tr>\n",
       "      <th>2</th>\n",
       "      <td>Angola</td>\n",
       "      <td>AGO</td>\n",
       "      <td>Year_1960</td>\n",
       "      <td>5643182.0</td>\n",
       "    </tr>\n",
       "    <tr>\n",
       "      <th>3</th>\n",
       "      <td>Albania</td>\n",
       "      <td>ALB</td>\n",
       "      <td>Year_1960</td>\n",
       "      <td>1608800.0</td>\n",
       "    </tr>\n",
       "    <tr>\n",
       "      <th>4</th>\n",
       "      <td>Andorra</td>\n",
       "      <td>AND</td>\n",
       "      <td>Year_1960</td>\n",
       "      <td>13411.0</td>\n",
       "    </tr>\n",
       "  </tbody>\n",
       "</table>\n",
       "</div>"
      ],
      "text/plain": [
       "       Country Country_Code       Year  Population\n",
       "0        Aruba          ABW  Year_1960     54211.0\n",
       "1  Afghanistan          AFG  Year_1960   8996351.0\n",
       "2       Angola          AGO  Year_1960   5643182.0\n",
       "3      Albania          ALB  Year_1960   1608800.0\n",
       "4      Andorra          AND  Year_1960     13411.0"
      ]
     },
     "execution_count": 7,
     "metadata": {},
     "output_type": "execute_result"
    }
   ],
   "source": [
    "pop_df = pop_df.melt(id_vars=['Country','Country_Code'],var_name='Year',value_name='Population')\n",
    "pop_df.head()"
   ]
  },
  {
   "cell_type": "markdown",
   "id": "54b0c0a0",
   "metadata": {},
   "source": [
    "### Dữ liệu có các dòng bị lặp không?"
   ]
  },
  {
   "cell_type": "code",
   "execution_count": 8,
   "id": "d076af10",
   "metadata": {},
   "outputs": [
    {
     "data": {
      "text/plain": [
       "0"
      ]
     },
     "execution_count": 8,
     "metadata": {},
     "output_type": "execute_result"
    }
   ],
   "source": [
    "co2_df.duplicated().sum()"
   ]
  },
  {
   "cell_type": "code",
   "execution_count": 9,
   "id": "f1ac7b2d",
   "metadata": {},
   "outputs": [
    {
     "data": {
      "text/plain": [
       "0"
      ]
     },
     "execution_count": 9,
     "metadata": {},
     "output_type": "execute_result"
    }
   ],
   "source": [
    "pop_df.duplicated().sum()"
   ]
  },
  {
   "cell_type": "markdown",
   "id": "6f840294",
   "metadata": {},
   "source": [
    "### Mỗi cột có ý nghĩa gì?"
   ]
  },
  {
   "cell_type": "markdown",
   "id": "0e88f3fc",
   "metadata": {},
   "source": [
    "- Tập dữ liệu __`Co2`__.\n",
    "    - __Entity__: Tên quốc gia.\n",
    "    - __Code__: Mã code của quốc gia.\n",
    "    - __Annual CO₂ emissions (tonnes )__: Lượng khí thải CO2 của quốc gia(tính theo đơn vị Tấn).\n",
    "    - __Year__: Xác định năm.\n",
    "\n",
    "- Tập dữ liệu __`Population`__.\n",
    "\n",
    "    - __Country__: Tên quốc gia.\n",
    "    - __Country_Code__: Mã code của quốc gia.\n",
    "    - __Population__: Dân số của quốc gia(tính theo đơn vị người).\n",
    "    - __Year__: Xác định năm.\n",
    " \n",
    " \n",
    "- Ở đây:\n",
    "    - Cột __Entity__ (ở tập dữ liệu __`Co2`__) và cột __Country__ (ở tập dữ liệu __`Population`__) có cùng ý nghĩa nhưng lại có tên khác nhau. Nên chúng ta quyết định sửa tên cột __Entity__ ở tập dữ liệu __Co2__ thành __Country__.\n",
    "    - Cột __Code__ (ở tập dữ liệu __`Co2`__) và cột __Country_Code__ (ở tập dữ liệu __`Population`__) có cùng ý nghĩa nhưng lại có tên khác nhau. Nên chúng ta quyết định sửa tên cột __Country_Code__ ở tậo dữ liệu __`Population`__ thành __Code__.\n",
    "    - Cột __Annual CO₂ emissions (tonnes )__ sẽ được đổi tên thành __Co2__ để nhìn gon hơn."
   ]
  },
  {
   "cell_type": "code",
   "execution_count": 10,
   "id": "f44e0d5b",
   "metadata": {},
   "outputs": [
    {
     "data": {
      "text/html": [
       "<div>\n",
       "<style scoped>\n",
       "    .dataframe tbody tr th:only-of-type {\n",
       "        vertical-align: middle;\n",
       "    }\n",
       "\n",
       "    .dataframe tbody tr th {\n",
       "        vertical-align: top;\n",
       "    }\n",
       "\n",
       "    .dataframe thead th {\n",
       "        text-align: right;\n",
       "    }\n",
       "</style>\n",
       "<table border=\"1\" class=\"dataframe\">\n",
       "  <thead>\n",
       "    <tr style=\"text-align: right;\">\n",
       "      <th></th>\n",
       "      <th>Country</th>\n",
       "      <th>Code</th>\n",
       "      <th>Year</th>\n",
       "      <th>Co2</th>\n",
       "    </tr>\n",
       "  </thead>\n",
       "  <tbody>\n",
       "    <tr>\n",
       "      <th>0</th>\n",
       "      <td>Afghanistan</td>\n",
       "      <td>AFG</td>\n",
       "      <td>1949</td>\n",
       "      <td>14656.0</td>\n",
       "    </tr>\n",
       "    <tr>\n",
       "      <th>1</th>\n",
       "      <td>Afghanistan</td>\n",
       "      <td>AFG</td>\n",
       "      <td>1950</td>\n",
       "      <td>84272.0</td>\n",
       "    </tr>\n",
       "  </tbody>\n",
       "</table>\n",
       "</div>"
      ],
      "text/plain": [
       "       Country Code  Year      Co2\n",
       "0  Afghanistan  AFG  1949  14656.0\n",
       "1  Afghanistan  AFG  1950  84272.0"
      ]
     },
     "execution_count": 10,
     "metadata": {},
     "output_type": "execute_result"
    }
   ],
   "source": [
    "co2_df = co2_df.rename(columns={\"Entity\": \"Country\",\"Annual CO₂ emissions (tonnes )\":\"Co2\"})\n",
    "co2_df.head(2)"
   ]
  },
  {
   "cell_type": "code",
   "execution_count": 11,
   "id": "e4b2be5a",
   "metadata": {},
   "outputs": [
    {
     "data": {
      "text/html": [
       "<div>\n",
       "<style scoped>\n",
       "    .dataframe tbody tr th:only-of-type {\n",
       "        vertical-align: middle;\n",
       "    }\n",
       "\n",
       "    .dataframe tbody tr th {\n",
       "        vertical-align: top;\n",
       "    }\n",
       "\n",
       "    .dataframe thead th {\n",
       "        text-align: right;\n",
       "    }\n",
       "</style>\n",
       "<table border=\"1\" class=\"dataframe\">\n",
       "  <thead>\n",
       "    <tr style=\"text-align: right;\">\n",
       "      <th></th>\n",
       "      <th>Country</th>\n",
       "      <th>Code</th>\n",
       "      <th>Year</th>\n",
       "      <th>Population</th>\n",
       "    </tr>\n",
       "  </thead>\n",
       "  <tbody>\n",
       "    <tr>\n",
       "      <th>0</th>\n",
       "      <td>Aruba</td>\n",
       "      <td>ABW</td>\n",
       "      <td>Year_1960</td>\n",
       "      <td>54211.0</td>\n",
       "    </tr>\n",
       "    <tr>\n",
       "      <th>1</th>\n",
       "      <td>Afghanistan</td>\n",
       "      <td>AFG</td>\n",
       "      <td>Year_1960</td>\n",
       "      <td>8996351.0</td>\n",
       "    </tr>\n",
       "  </tbody>\n",
       "</table>\n",
       "</div>"
      ],
      "text/plain": [
       "       Country Code       Year  Population\n",
       "0        Aruba  ABW  Year_1960     54211.0\n",
       "1  Afghanistan  AFG  Year_1960   8996351.0"
      ]
     },
     "execution_count": 11,
     "metadata": {},
     "output_type": "execute_result"
    }
   ],
   "source": [
    "pop_df = pop_df.rename(columns={\"Country_Code\": \"Code\"})\n",
    "pop_df.head(2)"
   ]
  },
  {
   "cell_type": "markdown",
   "id": "cb101c6b",
   "metadata": {},
   "source": [
    "### Mỗi cột hiện đang có kiểu dữ liệu gì? Có cột nào có kiểu dữ liệu chưa phù hợp để có thể xử lý tiếp không?"
   ]
  },
  {
   "cell_type": "code",
   "execution_count": 12,
   "id": "abf0322c",
   "metadata": {},
   "outputs": [
    {
     "data": {
      "text/plain": [
       "Country     object\n",
       "Code        object\n",
       "Year         int64\n",
       "Co2        float64\n",
       "dtype: object"
      ]
     },
     "execution_count": 12,
     "metadata": {},
     "output_type": "execute_result"
    }
   ],
   "source": [
    "co2_df.dtypes"
   ]
  },
  {
   "cell_type": "code",
   "execution_count": 13,
   "id": "e3a8ae84",
   "metadata": {},
   "outputs": [
    {
     "data": {
      "text/plain": [
       "Country        object\n",
       "Code           object\n",
       "Year           object\n",
       "Population    float64\n",
       "dtype: object"
      ]
     },
     "execution_count": 13,
     "metadata": {},
     "output_type": "execute_result"
    }
   ],
   "source": [
    "pop_df.dtypes"
   ]
  },
  {
   "cell_type": "markdown",
   "id": "c2757268",
   "metadata": {},
   "source": [
    "Cột `Year` giữa 2 tập có kiểu dữ liệu khác nhau. Do ở tập `Population` dữ liệu ban đầu có dạng `Year_19xx` phía trước. Vì thế ở đây chúng ta sẽ xóa bỏ chữ `Year_` phía trước và sau đó chuyển về kiểu dữ liệu `int64` để đồng bộ."
   ]
  },
  {
   "cell_type": "code",
   "execution_count": 14,
   "id": "74c64027",
   "metadata": {},
   "outputs": [],
   "source": [
    "pop_df[\"Year\"] = pop_df[\"Year\"].str.replace('Year_','').astype('int64')"
   ]
  },
  {
   "cell_type": "markdown",
   "id": "b3dd8d99",
   "metadata": {},
   "source": [
    "*Kiểm tra lại kiểu dữ liệu.*"
   ]
  },
  {
   "cell_type": "code",
   "execution_count": 15,
   "id": "ecdd40ed",
   "metadata": {},
   "outputs": [
    {
     "data": {
      "text/plain": [
       "Country        object\n",
       "Code           object\n",
       "Year            int64\n",
       "Population    float64\n",
       "dtype: object"
      ]
     },
     "execution_count": 15,
     "metadata": {},
     "output_type": "execute_result"
    }
   ],
   "source": [
    "pop_df.dtypes"
   ]
  },
  {
   "cell_type": "markdown",
   "id": "6d8527c5",
   "metadata": {},
   "source": [
    "## Gộp 2 tập dữ liệu __`Population`__ và  __`Co2`__"
   ]
  },
  {
   "cell_type": "code",
   "execution_count": 16,
   "id": "00c1d9ab",
   "metadata": {},
   "outputs": [
    {
     "data": {
      "text/plain": [
       "233"
      ]
     },
     "execution_count": 16,
     "metadata": {},
     "output_type": "execute_result"
    }
   ],
   "source": [
    "co2_df.Country.nunique()"
   ]
  },
  {
   "cell_type": "code",
   "execution_count": 17,
   "id": "1e080d5c",
   "metadata": {},
   "outputs": [
    {
     "data": {
      "text/plain": [
       "263"
      ]
     },
     "execution_count": 17,
     "metadata": {},
     "output_type": "execute_result"
    }
   ],
   "source": [
    "pop_df.Country.nunique()"
   ]
  },
  {
   "cell_type": "markdown",
   "id": "3d1f8252",
   "metadata": {},
   "source": [
    "- Sau khi chuẩn hóa các cột dữ liệu của 2 tập dữ liệu phù hợp, ta bắt đầu gộp 2 bảng này lại. Vấn đề:\n",
    "    - Tập dữ liệu `Co2`:\n",
    "       - Thống kê từ năm 1949 đến năm 2017.\n",
    "       - Có 233 Country.\n",
    "       \n",
    "    - Tập dữ liệu `Population` thống kê từ năm 1960 đến năm 2016.\n",
    "       - Thống kê từ năm 1960 đến năm 2016.\n",
    "       - Có 263 Country( Có thêm các đảo, thuộc địa...).\n",
    "       \n",
    "- Bảng sau khi gộp sẽ được thống kê từ năm 1960 đến năm 2016 và có 233 Country( Ở đây ta sử dụng `left join` để gộp) ."
   ]
  },
  {
   "cell_type": "code",
   "execution_count": 18,
   "id": "3bb0e7e7",
   "metadata": {},
   "outputs": [
    {
     "data": {
      "text/html": [
       "<div>\n",
       "<style scoped>\n",
       "    .dataframe tbody tr th:only-of-type {\n",
       "        vertical-align: middle;\n",
       "    }\n",
       "\n",
       "    .dataframe tbody tr th {\n",
       "        vertical-align: top;\n",
       "    }\n",
       "\n",
       "    .dataframe thead th {\n",
       "        text-align: right;\n",
       "    }\n",
       "</style>\n",
       "<table border=\"1\" class=\"dataframe\">\n",
       "  <thead>\n",
       "    <tr style=\"text-align: right;\">\n",
       "      <th></th>\n",
       "      <th>Country</th>\n",
       "      <th>Code</th>\n",
       "      <th>Year</th>\n",
       "      <th>Co2</th>\n",
       "      <th>Population</th>\n",
       "    </tr>\n",
       "  </thead>\n",
       "  <tbody>\n",
       "    <tr>\n",
       "      <th>0</th>\n",
       "      <td>Afghanistan</td>\n",
       "      <td>AFG</td>\n",
       "      <td>1960</td>\n",
       "      <td>413883.42</td>\n",
       "      <td>8996351.0</td>\n",
       "    </tr>\n",
       "    <tr>\n",
       "      <th>1</th>\n",
       "      <td>Afghanistan</td>\n",
       "      <td>AFG</td>\n",
       "      <td>1961</td>\n",
       "      <td>490797.70</td>\n",
       "      <td>9166764.0</td>\n",
       "    </tr>\n",
       "    <tr>\n",
       "      <th>2</th>\n",
       "      <td>Afghanistan</td>\n",
       "      <td>AFG</td>\n",
       "      <td>1962</td>\n",
       "      <td>688594.27</td>\n",
       "      <td>9345868.0</td>\n",
       "    </tr>\n",
       "    <tr>\n",
       "      <th>3</th>\n",
       "      <td>Afghanistan</td>\n",
       "      <td>AFG</td>\n",
       "      <td>1963</td>\n",
       "      <td>706735.98</td>\n",
       "      <td>9533954.0</td>\n",
       "    </tr>\n",
       "    <tr>\n",
       "      <th>4</th>\n",
       "      <td>Afghanistan</td>\n",
       "      <td>AFG</td>\n",
       "      <td>1964</td>\n",
       "      <td>838550.83</td>\n",
       "      <td>9731361.0</td>\n",
       "    </tr>\n",
       "  </tbody>\n",
       "</table>\n",
       "</div>"
      ],
      "text/plain": [
       "       Country Code  Year        Co2  Population\n",
       "0  Afghanistan  AFG  1960  413883.42   8996351.0\n",
       "1  Afghanistan  AFG  1961  490797.70   9166764.0\n",
       "2  Afghanistan  AFG  1962  688594.27   9345868.0\n",
       "3  Afghanistan  AFG  1963  706735.98   9533954.0\n",
       "4  Afghanistan  AFG  1964  838550.83   9731361.0"
      ]
     },
     "execution_count": 18,
     "metadata": {},
     "output_type": "execute_result"
    }
   ],
   "source": [
    "df = (co2_df.loc[ (co2_df[\"Year\"] >= 1960) & (co2_df[\"Year\"] <= 2016)]).merge(pop_df,on=['Code','Country','Year'],how='left')\n",
    "df.head()"
   ]
  },
  {
   "cell_type": "markdown",
   "id": "aa65c6ea",
   "metadata": {},
   "source": [
    "- Cuối cùng thì chúng ta đã rút ra được 1 DataFrame chung cho cả 2 tập dữ liệu. \n",
    "- DataFrame này cho chúng ta biết các thông tin của một quốc gia về  lượng khí thải Co2 và dân số  ở mỗi năm tình từ năm 1960 đến năm 2016"
   ]
  },
  {
   "cell_type": "markdown",
   "id": "70469c4c",
   "metadata": {},
   "source": [
    "### Với mỗi cột có kiểu dữ liệu dạng numeric, các giá trị được phân bố như thế nào?"
   ]
  },
  {
   "cell_type": "code",
   "execution_count": 19,
   "id": "3e4daefb",
   "metadata": {},
   "outputs": [
    {
     "data": {
      "text/plain": [
       "Country        object\n",
       "Code           object\n",
       "Year            int64\n",
       "Co2           float64\n",
       "Population    float64\n",
       "dtype: object"
      ]
     },
     "execution_count": 19,
     "metadata": {},
     "output_type": "execute_result"
    }
   ],
   "source": [
    "df.dtypes"
   ]
  },
  {
   "cell_type": "markdown",
   "id": "05521a08",
   "metadata": {},
   "source": [
    "- Ở tập dữ liệu __df__ ta thấy có 3 cột có kiểu dữ liệu dạng numeric là `Year`, `Co2`, `Population` "
   ]
  },
  {
   "cell_type": "code",
   "execution_count": 20,
   "id": "0d2570e1",
   "metadata": {},
   "outputs": [],
   "source": [
    "pd.set_option('display.float_format', lambda x: '%.1f' % x)\n",
    "def missing_ratio(s):\n",
    "    return s.isna().mean() * 100"
   ]
  },
  {
   "cell_type": "code",
   "execution_count": 21,
   "id": "30f533a1",
   "metadata": {},
   "outputs": [
    {
     "data": {
      "text/html": [
       "<div>\n",
       "<style scoped>\n",
       "    .dataframe tbody tr th:only-of-type {\n",
       "        vertical-align: middle;\n",
       "    }\n",
       "\n",
       "    .dataframe tbody tr th {\n",
       "        vertical-align: top;\n",
       "    }\n",
       "\n",
       "    .dataframe thead th {\n",
       "        text-align: right;\n",
       "    }\n",
       "</style>\n",
       "<table border=\"1\" class=\"dataframe\">\n",
       "  <thead>\n",
       "    <tr style=\"text-align: right;\">\n",
       "      <th></th>\n",
       "      <th>Year</th>\n",
       "      <th>Co2</th>\n",
       "      <th>Population</th>\n",
       "    </tr>\n",
       "  </thead>\n",
       "  <tbody>\n",
       "    <tr>\n",
       "      <th>missing_ratio</th>\n",
       "      <td>0.0</td>\n",
       "      <td>0.0</td>\n",
       "      <td>21.9</td>\n",
       "    </tr>\n",
       "    <tr>\n",
       "      <th>min</th>\n",
       "      <td>1960.0</td>\n",
       "      <td>-625522256.7</td>\n",
       "      <td>5500.0</td>\n",
       "    </tr>\n",
       "    <tr>\n",
       "      <th>max</th>\n",
       "      <td>2016.0</td>\n",
       "      <td>35675099439.0</td>\n",
       "      <td>1378665000.0</td>\n",
       "    </tr>\n",
       "  </tbody>\n",
       "</table>\n",
       "</div>"
      ],
      "text/plain": [
       "                Year           Co2   Population\n",
       "missing_ratio    0.0           0.0         21.9\n",
       "min           1960.0  -625522256.7       5500.0\n",
       "max           2016.0 35675099439.0 1378665000.0"
      ]
     },
     "execution_count": 21,
     "metadata": {},
     "output_type": "execute_result"
    }
   ],
   "source": [
    "df.loc[:,[\"Year\",\"Co2\",\"Population\"]].agg([missing_ratio,pd.Series.min,pd.Series.max])"
   ]
  },
  {
   "cell_type": "markdown",
   "id": "4a711159",
   "metadata": {},
   "source": [
    "**Nhận xét:**\n",
    "\n",
    "   - Cột `Population` có tỉ lệ thiếu là 21.9%, nguyên nhân là:\n",
    "        - Có các quốc gia có trong tập dữ liệu `Co2` nhưng không có trong tập dữ liệu `Population`.\n",
    "        - Dữ liệu lúc đầu bị thiếu sẵn.\n",
    "        \n",
    "        \n",
    "   - Giá trị min của cột Co2 là -625522256.7, đây là giá trị âm. Khi xem xét nguyên nhân các giá trị âm này đến từ đâu thì ta thấy tất cả chúng có cùng cột `Country` là \"Statistical differences\", đây là các giá trị khác biệt khi chúng ta thống kê dữ liệu không thuộc quốc gia nào. "
   ]
  },
  {
   "cell_type": "code",
   "execution_count": 22,
   "id": "b695f841",
   "metadata": {},
   "outputs": [
    {
     "data": {
      "text/html": [
       "<div>\n",
       "<style scoped>\n",
       "    .dataframe tbody tr th:only-of-type {\n",
       "        vertical-align: middle;\n",
       "    }\n",
       "\n",
       "    .dataframe tbody tr th {\n",
       "        vertical-align: top;\n",
       "    }\n",
       "\n",
       "    .dataframe thead th {\n",
       "        text-align: right;\n",
       "    }\n",
       "</style>\n",
       "<table border=\"1\" class=\"dataframe\">\n",
       "  <thead>\n",
       "    <tr style=\"text-align: right;\">\n",
       "      <th></th>\n",
       "      <th>Country</th>\n",
       "      <th>Code</th>\n",
       "      <th>Year</th>\n",
       "      <th>Co2</th>\n",
       "      <th>Population</th>\n",
       "    </tr>\n",
       "  </thead>\n",
       "  <tbody>\n",
       "    <tr>\n",
       "      <th>10694</th>\n",
       "      <td>Statistical differences</td>\n",
       "      <td>NaN</td>\n",
       "      <td>1960</td>\n",
       "      <td>66494272.0</td>\n",
       "      <td>NaN</td>\n",
       "    </tr>\n",
       "    <tr>\n",
       "      <th>10695</th>\n",
       "      <td>Statistical differences</td>\n",
       "      <td>NaN</td>\n",
       "      <td>1961</td>\n",
       "      <td>86235904.0</td>\n",
       "      <td>NaN</td>\n",
       "    </tr>\n",
       "  </tbody>\n",
       "</table>\n",
       "</div>"
      ],
      "text/plain": [
       "                       Country Code  Year        Co2  Population\n",
       "10694  Statistical differences  NaN  1960 66494272.0         NaN\n",
       "10695  Statistical differences  NaN  1961 86235904.0         NaN"
      ]
     },
     "execution_count": 22,
     "metadata": {},
     "output_type": "execute_result"
    }
   ],
   "source": [
    "df[df['Country'] == 'Statistical differences'].head(2)"
   ]
  },
  {
   "cell_type": "code",
   "execution_count": 23,
   "id": "477d9f34",
   "metadata": {},
   "outputs": [
    {
     "data": {
      "text/html": [
       "<div>\n",
       "<style scoped>\n",
       "    .dataframe tbody tr th:only-of-type {\n",
       "        vertical-align: middle;\n",
       "    }\n",
       "\n",
       "    .dataframe tbody tr th {\n",
       "        vertical-align: top;\n",
       "    }\n",
       "\n",
       "    .dataframe thead th {\n",
       "        text-align: right;\n",
       "    }\n",
       "</style>\n",
       "<table border=\"1\" class=\"dataframe\">\n",
       "  <thead>\n",
       "    <tr style=\"text-align: right;\">\n",
       "      <th></th>\n",
       "      <th>Country</th>\n",
       "      <th>Code</th>\n",
       "      <th>Year</th>\n",
       "      <th>Co2</th>\n",
       "      <th>Population</th>\n",
       "    </tr>\n",
       "  </thead>\n",
       "  <tbody>\n",
       "    <tr>\n",
       "      <th>10705</th>\n",
       "      <td>Statistical differences</td>\n",
       "      <td>NaN</td>\n",
       "      <td>1971</td>\n",
       "      <td>-29377952.0</td>\n",
       "      <td>NaN</td>\n",
       "    </tr>\n",
       "    <tr>\n",
       "      <th>10706</th>\n",
       "      <td>Statistical differences</td>\n",
       "      <td>NaN</td>\n",
       "      <td>1972</td>\n",
       "      <td>-132765040.0</td>\n",
       "      <td>NaN</td>\n",
       "    </tr>\n",
       "  </tbody>\n",
       "</table>\n",
       "</div>"
      ],
      "text/plain": [
       "                       Country Code  Year          Co2  Population\n",
       "10705  Statistical differences  NaN  1971  -29377952.0         NaN\n",
       "10706  Statistical differences  NaN  1972 -132765040.0         NaN"
      ]
     },
     "execution_count": 23,
     "metadata": {},
     "output_type": "execute_result"
    }
   ],
   "source": [
    "df[df['Co2'] <0].head(2)"
   ]
  },
  {
   "cell_type": "markdown",
   "id": "958d958e",
   "metadata": {},
   "source": [
    "Do đó chúng ta sẽ xóa các dòng này đi."
   ]
  },
  {
   "cell_type": "code",
   "execution_count": 24,
   "id": "93fd1858",
   "metadata": {},
   "outputs": [],
   "source": [
    "df.drop(df[df['Country']=='Statistical differences'].index,inplace=True)"
   ]
  },
  {
   "cell_type": "markdown",
   "id": "0d1a4d66",
   "metadata": {},
   "source": [
    "### Với mỗi cột có kiểu dữ liệu dạng categorical, các giá trị được phân bố như thế nào?"
   ]
  },
  {
   "cell_type": "markdown",
   "id": "c17de25c",
   "metadata": {},
   "source": [
    "Chúng ta còn lại 2 cột thuộc kiểu dữ liệu catagorical là `Country` và `Code`"
   ]
  },
  {
   "cell_type": "code",
   "execution_count": 25,
   "id": "69008271",
   "metadata": {},
   "outputs": [
    {
     "data": {
      "text/html": [
       "<div>\n",
       "<style scoped>\n",
       "    .dataframe tbody tr th:only-of-type {\n",
       "        vertical-align: middle;\n",
       "    }\n",
       "\n",
       "    .dataframe tbody tr th {\n",
       "        vertical-align: top;\n",
       "    }\n",
       "\n",
       "    .dataframe thead th {\n",
       "        text-align: right;\n",
       "    }\n",
       "</style>\n",
       "<table border=\"1\" class=\"dataframe\">\n",
       "  <thead>\n",
       "    <tr style=\"text-align: right;\">\n",
       "      <th></th>\n",
       "      <th>Country</th>\n",
       "      <th>Code</th>\n",
       "    </tr>\n",
       "  </thead>\n",
       "  <tbody>\n",
       "    <tr>\n",
       "      <th>missing_ratio</th>\n",
       "      <td>0.0</td>\n",
       "      <td>3.8</td>\n",
       "    </tr>\n",
       "    <tr>\n",
       "      <th>nunique</th>\n",
       "      <td>232</td>\n",
       "      <td>222</td>\n",
       "    </tr>\n",
       "    <tr>\n",
       "      <th>unique</th>\n",
       "      <td>[Afghanistan, Africa, Albania, Algeria, Americ...</td>\n",
       "      <td>[AFG, nan, ALB, DZA, AND, AGO, AIA, ATG, ARG, ...</td>\n",
       "    </tr>\n",
       "  </tbody>\n",
       "</table>\n",
       "</div>"
      ],
      "text/plain": [
       "                                                         Country  \\\n",
       "missing_ratio                                                0.0   \n",
       "nunique                                                      232   \n",
       "unique         [Afghanistan, Africa, Albania, Algeria, Americ...   \n",
       "\n",
       "                                                            Code  \n",
       "missing_ratio                                                3.8  \n",
       "nunique                                                      222  \n",
       "unique         [AFG, nan, ALB, DZA, AND, AGO, AIA, ATG, ARG, ...  "
      ]
     },
     "execution_count": 25,
     "metadata": {},
     "output_type": "execute_result"
    }
   ],
   "source": [
    "df.loc[:,[\"Country\",\"Code\"]].agg([missing_ratio,pd.Series.nunique,pd.Series.unique])"
   ]
  },
  {
   "cell_type": "markdown",
   "id": "3508a26d",
   "metadata": {},
   "source": [
    "**Tìm giá bị thiếu ở cột `Code`**"
   ]
  },
  {
   "cell_type": "code",
   "execution_count": 26,
   "id": "01be523f",
   "metadata": {},
   "outputs": [
    {
     "data": {
      "text/html": [
       "<div>\n",
       "<style scoped>\n",
       "    .dataframe tbody tr th:only-of-type {\n",
       "        vertical-align: middle;\n",
       "    }\n",
       "\n",
       "    .dataframe tbody tr th {\n",
       "        vertical-align: top;\n",
       "    }\n",
       "\n",
       "    .dataframe thead th {\n",
       "        text-align: right;\n",
       "    }\n",
       "</style>\n",
       "<table border=\"1\" class=\"dataframe\">\n",
       "  <thead>\n",
       "    <tr style=\"text-align: right;\">\n",
       "      <th></th>\n",
       "      <th>Country</th>\n",
       "      <th>Code</th>\n",
       "      <th>Year</th>\n",
       "      <th>Co2</th>\n",
       "      <th>Population</th>\n",
       "    </tr>\n",
       "  </thead>\n",
       "  <tbody>\n",
       "    <tr>\n",
       "      <th>57</th>\n",
       "      <td>Africa</td>\n",
       "      <td>NaN</td>\n",
       "      <td>1960</td>\n",
       "      <td>156567067.8</td>\n",
       "      <td>NaN</td>\n",
       "    </tr>\n",
       "    <tr>\n",
       "      <th>58</th>\n",
       "      <td>Africa</td>\n",
       "      <td>NaN</td>\n",
       "      <td>1961</td>\n",
       "      <td>161994254.1</td>\n",
       "      <td>NaN</td>\n",
       "    </tr>\n",
       "    <tr>\n",
       "      <th>59</th>\n",
       "      <td>Africa</td>\n",
       "      <td>NaN</td>\n",
       "      <td>1962</td>\n",
       "      <td>166334786.6</td>\n",
       "      <td>NaN</td>\n",
       "    </tr>\n",
       "  </tbody>\n",
       "</table>\n",
       "</div>"
      ],
      "text/plain": [
       "   Country Code  Year         Co2  Population\n",
       "57  Africa  NaN  1960 156567067.8         NaN\n",
       "58  Africa  NaN  1961 161994254.1         NaN\n",
       "59  Africa  NaN  1962 166334786.6         NaN"
      ]
     },
     "execution_count": 26,
     "metadata": {},
     "output_type": "execute_result"
    }
   ],
   "source": [
    "df.loc[df[\"Code\"].isna()].head(3)"
   ]
  },
  {
   "cell_type": "markdown",
   "id": "486f608e",
   "metadata": {},
   "source": [
    "- **Nhận xét:**\n",
    "    - Hai cột Country và Code có ý nghĩa dùng để định danh của các quốc gia nhưng:\n",
    "        - Số lượng giá trị khác nhau của cột `Country` lại lớn hơn cột `Code` là 1, do đó ta có thể đoán được tỉ lệ thiếu 3.8% đến từ giá trị đó.\n",
    "        - Gía trị thiếu này có thể nguyên nhân từ dữ liệu gốc ban đầu. Sau khi dùng pandas thì ta biết được quốc gia có giá trị Code thiếu đó là `Afrrica`."
   ]
  },
  {
   "cell_type": "markdown",
   "id": "614074ba",
   "metadata": {},
   "source": [
    "## Đưa ra các câu hỏi cần trả lời"
   ]
  },
  {
   "cell_type": "markdown",
   "id": "869ec1e9",
   "metadata": {},
   "source": [
    "- Sau khi đã khám phá và hiểu hơn về dữ liệu, đưa ra một câu hỏi như sau:\n",
    "        Top 5 quốc gia có giá trị khí thải trung bình cao nhất từ năm 1960 to 2016.Và biểu diễn biểu đồ  đó."
   ]
  },
  {
   "cell_type": "code",
   "execution_count": 27,
   "id": "e05d137a",
   "metadata": {},
   "outputs": [
    {
     "data": {
      "text/html": [
       "<div>\n",
       "<style scoped>\n",
       "    .dataframe tbody tr th:only-of-type {\n",
       "        vertical-align: middle;\n",
       "    }\n",
       "\n",
       "    .dataframe tbody tr th {\n",
       "        vertical-align: top;\n",
       "    }\n",
       "\n",
       "    .dataframe thead th {\n",
       "        text-align: right;\n",
       "    }\n",
       "</style>\n",
       "<table border=\"1\" class=\"dataframe\">\n",
       "  <thead>\n",
       "    <tr style=\"text-align: right;\">\n",
       "      <th></th>\n",
       "      <th>Country</th>\n",
       "      <th>Year</th>\n",
       "      <th>Co2</th>\n",
       "      <th>Population</th>\n",
       "    </tr>\n",
       "  </thead>\n",
       "  <tbody>\n",
       "    <tr>\n",
       "      <th>228</th>\n",
       "      <td>World</td>\n",
       "      <td>1988.0</td>\n",
       "      <td>21785153003.4</td>\n",
       "      <td>NaN</td>\n",
       "    </tr>\n",
       "    <tr>\n",
       "      <th>221</th>\n",
       "      <td>United States</td>\n",
       "      <td>1988.0</td>\n",
       "      <td>4878747964.7</td>\n",
       "      <td>249960270.7</td>\n",
       "    </tr>\n",
       "    <tr>\n",
       "      <th>63</th>\n",
       "      <td>EU-28</td>\n",
       "      <td>1988.0</td>\n",
       "      <td>4020997393.8</td>\n",
       "      <td>NaN</td>\n",
       "    </tr>\n",
       "    <tr>\n",
       "      <th>45</th>\n",
       "      <td>China</td>\n",
       "      <td>1988.0</td>\n",
       "      <td>3263014736.1</td>\n",
       "      <td>1071848070.2</td>\n",
       "    </tr>\n",
       "    <tr>\n",
       "      <th>13</th>\n",
       "      <td>Asia and Pacific (other)</td>\n",
       "      <td>1988.0</td>\n",
       "      <td>2857944551.9</td>\n",
       "      <td>NaN</td>\n",
       "    </tr>\n",
       "    <tr>\n",
       "      <th>71</th>\n",
       "      <td>Europe (other)</td>\n",
       "      <td>1988.0</td>\n",
       "      <td>2396562410.6</td>\n",
       "      <td>NaN</td>\n",
       "    </tr>\n",
       "  </tbody>\n",
       "</table>\n",
       "</div>"
      ],
      "text/plain": [
       "                      Country   Year           Co2   Population\n",
       "228                     World 1988.0 21785153003.4          NaN\n",
       "221             United States 1988.0  4878747964.7  249960270.7\n",
       "63                      EU-28 1988.0  4020997393.8          NaN\n",
       "45                      China 1988.0  3263014736.1 1071848070.2\n",
       "13   Asia and Pacific (other) 1988.0  2857944551.9          NaN\n",
       "71             Europe (other) 1988.0  2396562410.6          NaN"
      ]
     },
     "execution_count": 27,
     "metadata": {},
     "output_type": "execute_result"
    }
   ],
   "source": [
    "# get the five countries with the highest mean in co2 emissions from 1960 to 2016\n",
    "df_top = df.loc[df[\"Year\"] >= 1960].groupby('Country').mean().reset_index().sort_values(by=[\"Co2\"], ascending=False)\n",
    "df_top.head(6)"
   ]
  },
  {
   "cell_type": "markdown",
   "id": "6206be78",
   "metadata": {},
   "source": [
    "### Visualize"
   ]
  },
  {
   "cell_type": "code",
   "execution_count": 31,
   "id": "7f066d6d",
   "metadata": {},
   "outputs": [
    {
     "data": {
      "image/png": "[encoded data removed]",
      "text/plain": [
       "<Figure size 1000x500 with 1 Axes>"
      ]
     },
     "metadata": {
      "needs_background": "light"
     },
     "output_type": "display_data"
    }
   ],
   "source": [
    "# size\n",
    "plt.figure(figsize=(10,5), dpi=100)\n",
    "\n",
    "y_pos = np.arange(len(df_top[\"Co2\"].tolist()[1:6]))\n",
    "val_list = list(map(lambda x: x/1000000, df_top[\"Co2\"].tolist()[1:6]))\n",
    "\n",
    "# plot\n",
    "plt.bar(y_pos, val_list, edgecolor=\"black\")\n",
    "# title\n",
    "plt.title(\"Top 5 AVG Emissions 1960-2016\", fontdict={\"fontweight\":\"bold\", \"fontsize\":16})\n",
    "# ticks\n",
    "plt.xticks(y_pos, df_top[\"Country\"].tolist()[1:6])\n",
    "plt.yticks\n",
    "\n",
    "# format axis\n",
    "axes = plt.gca()\n",
    "axes.ticklabel_format(axis=\"y\", style=\"plain\")\n",
    "\n",
    "# labels\n",
    "plt.ylabel(\"Emissions (million ton)\")\n",
    "plt.xlabel(\"Countries\")\n",
    "\n",
    "# show the plot\n",
    "plt.show()"
   ]
  },
  {
   "cell_type": "code",
   "execution_count": 41,
   "id": "b90613fa",
   "metadata": {},
   "outputs": [
    {
     "name": "stdout",
     "output_type": "stream",
     "text": [
      "['United States', 'EU-28', 'China', 'Asia and Pacific (other)', 'Europe (other)']\n"
     ]
    },
    {
     "data": {
      "image/png": "[encoded data removed]",
      "text/plain": [
       "<Figure size 864x360 with 1 Axes>"
      ]
     },
     "metadata": {
      "needs_background": "light"
     },
     "output_type": "display_data"
    }
   ],
   "source": [
    "# size\n",
    "plt.figure(figsize=(12,5))\n",
    "\n",
    "# helper variables\n",
    "years = [i for i in range(1960,2016+1)]\n",
    "countries = df_top[\"Country\"].tolist()[1:6]\n",
    "print(countries)\n",
    "\n",
    "# title\n",
    "plt.title(\"CO2 Emissions over time from 1960 to 2016\", fontdict={\"fontweight\":\"bold\", \"fontsize\":16})\n",
    "\n",
    "# data\n",
    "for country in countries:\n",
    "    # filter for years and country\n",
    "    filt = ((df[\"Year\"] >= 1960) & (df[\"Country\"] == country))\n",
    "    # print(df.loc[filt, [\"Year\", \"Annual CO2 Emissions\"]])\n",
    "    plt.plot(years, [l/100000 for l in df.loc[filt][\"Co2\"].tolist()], \"-\", label=country)\n",
    "\n",
    "# ticks\n",
    "plt.xticks(years, rotation=70)\n",
    "\n",
    "# axis labels\n",
    "plt.xlabel(\"Year\")\n",
    "plt.ylabel(\"Emissions (million ton)\")\n",
    "\n",
    "# legend\n",
    "plt.legend()\n",
    "\n",
    "# show\n",
    "plt.show()"
   ]
  },
  {
   "cell_type": "markdown",
   "id": "4f4b5f67",
   "metadata": {},
   "source": [
    "**Nhận xét**\n"
   ]
  },
  {
   "cell_type": "markdown",
   "id": "93327019",
   "metadata": {},
   "source": [
    "Có thể thấy rằng Trung Quốc và Hoa Kỳ có lượng khí thải CO2 trung bình cao nhất từ năm 1960 đến năm 2016. Trong những năm gần đây thì khu vực Trung Quốc và Châu Á & Thái Bình Dương có lượng khí thải theo xu hướng tăng dần còn các khi vực còn lại có xu hướng giảm dần. Một số nguyên nhân có thể do\n",
    "- Hoa Kỳ và Trung Quốc là 2 quốc gia thuộc top đầu về kinh tế, nên lượng khí thải do hoạt động sản xuất, khai thác diễn ra cao\n",
    "- Châu Á & Thái Bình Dương và Trung Quốc có lượng khí thải tăng theo từng năm do đây là có thể nói khu vực đông dân nhất thế  giới và là khu vực nhiều tài nguyên nên hoạt động sản xuất, khai thác diễn ra mạnh mẽ"
   ]
  },
  {
   "cell_type": "code",
   "execution_count": null,
   "id": "f4317a94",
   "metadata": {},
   "outputs": [],
   "source": []
  }
 ],
 "metadata": {
  "kernelspec": {
   "display_name": "Python [conda env:p4ds-env] *",
   "language": "python",
   "name": "conda-env-p4ds-env-py"
  },
  "language_info": {
   "codemirror_mode": {
    "name": "ipython",
    "version": 3
   },
   "file_extension": ".py",
   "mimetype": "text/x-python",
   "name": "python",
   "nbconvert_exporter": "python",
   "pygments_lexer": "ipython3",
   "version": "3.8.8"
  }
 },
 "nbformat": 4,
 "nbformat_minor": 5
}
