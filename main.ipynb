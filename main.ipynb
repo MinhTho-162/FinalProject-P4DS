{
 "cells": [
  {
   "cell_type": "markdown",
   "id": "50f4e425",
   "metadata": {
    "toc": true
   },
   "source": [
    "<h1>Mục Lục<span class=\"tocSkip\"></span></h1>\n",
    "<div class=\"toc\"><ul class=\"toc-item\"><li><span><a href=\"#Import-các-thư-viện-cần-thiết\" data-toc-modified-id=\"Import-các-thư-viện-cần-thiết-1\"><span class=\"toc-item-num\">1&nbsp;&nbsp;</span>Import các thư viện cần thiết</a></span></li><li><span><a href=\"#Thu-thập-dữ-liệu\" data-toc-modified-id=\"Thu-thập-dữ-liệu-2\"><span class=\"toc-item-num\">2&nbsp;&nbsp;</span>Thu thập dữ liệu</a></span><ul class=\"toc-item\"><li><span><a href=\"#Đọc-dữ-liệu-từ-file-csv-vào-dataframe\" data-toc-modified-id=\"Đọc-dữ-liệu-từ-file-csv-vào-dataframe-2.1\"><span class=\"toc-item-num\">2.1&nbsp;&nbsp;</span>Đọc dữ liệu từ file csv vào dataframe</a></span></li><li><span><a href=\"#Dữ-liệu-gồm-có-bao-nhiêu-dòng-và-bao-nhiêu-cột?-(0.25đ)\" data-toc-modified-id=\"Dữ-liệu-gồm-có-bao-nhiêu-dòng-và-bao-nhiêu-cột?-(0.25đ)-2.2\"><span class=\"toc-item-num\">2.2&nbsp;&nbsp;</span>Dữ liệu gồm có bao nhiêu dòng và bao nhiêu cột? (0.25đ)</a></span></li><li><span><a href=\"#Mỗi-dòng-có-ý-nghĩa-gì?-Có-vấn-đề-các-dòng-có-ý-nghĩa-khác-nhau-không?\" data-toc-modified-id=\"Mỗi-dòng-có-ý-nghĩa-gì?-Có-vấn-đề-các-dòng-có-ý-nghĩa-khác-nhau-không?-2.3\"><span class=\"toc-item-num\">2.3&nbsp;&nbsp;</span>Mỗi dòng có ý nghĩa gì? Có vấn đề các dòng có ý nghĩa khác nhau không?</a></span></li><li><span><a href=\"#Dữ-liệu-có-các-dòng-bị-lặp-không?-(0.5đ)\" data-toc-modified-id=\"Dữ-liệu-có-các-dòng-bị-lặp-không?-(0.5đ)-2.4\"><span class=\"toc-item-num\">2.4&nbsp;&nbsp;</span>Dữ liệu có các dòng bị lặp không? (0.5đ)</a></span></li><li><span><a href=\"#Mỗi-cột-có-ý-nghĩa-gì?\" data-toc-modified-id=\"Mỗi-cột-có-ý-nghĩa-gì?-2.5\"><span class=\"toc-item-num\">2.5&nbsp;&nbsp;</span>Mỗi cột có ý nghĩa gì?</a></span></li><li><span><a href=\"#Mỗi-cột-hiện-đang-có-kiểu-dữ-liệu-gì?-Có-cột-nào-có-kiểu-dữ-liệu-chưa-phù-hợp-để-có-thể-xử-lý-tiếp-không?-(0.75đ)\" data-toc-modified-id=\"Mỗi-cột-hiện-đang-có-kiểu-dữ-liệu-gì?-Có-cột-nào-có-kiểu-dữ-liệu-chưa-phù-hợp-để-có-thể-xử-lý-tiếp-không?-(0.75đ)-2.6\"><span class=\"toc-item-num\">2.6&nbsp;&nbsp;</span>Mỗi cột hiện đang có kiểu dữ liệu gì? Có cột nào có kiểu dữ liệu chưa phù hợp để có thể xử lý tiếp không? (0.75đ)</a></span></li></ul></li><li><span><a href=\"#Tiền-xử-lý\" data-toc-modified-id=\"Tiền-xử-lý-3\"><span class=\"toc-item-num\">3&nbsp;&nbsp;</span>Tiền xử lý</a></span></li><li><span><a href=\"#Khám-phá-dữ-liệu-(tiếp-tục)\" data-toc-modified-id=\"Khám-phá-dữ-liệu-(tiếp-tục)-4\"><span class=\"toc-item-num\">4&nbsp;&nbsp;</span>Khám phá dữ liệu (tiếp tục)</a></span><ul class=\"toc-item\"><li><span><a href=\"#Với-mỗi-cột-có-kiểu-dữ-liệu-dạng-numeric,-các-giá-trị-được-phân-bố-như-thế-nào?-(0.5đ)\" data-toc-modified-id=\"Với-mỗi-cột-có-kiểu-dữ-liệu-dạng-numeric,-các-giá-trị-được-phân-bố-như-thế-nào?-(0.5đ)-4.1\"><span class=\"toc-item-num\">4.1&nbsp;&nbsp;</span>Với mỗi cột có kiểu dữ liệu dạng numeric, các giá trị được phân bố như thế nào? (0.5đ)</a></span></li><li><span><a href=\"#Với-mỗi-cột-có-kiểu-dữ-liệu-dạng-categorical,-các-giá-trị-được-phân-bố-như-thế-nào?-(0.75đ)\" data-toc-modified-id=\"Với-mỗi-cột-có-kiểu-dữ-liệu-dạng-categorical,-các-giá-trị-được-phân-bố-như-thế-nào?-(0.75đ)-4.2\"><span class=\"toc-item-num\">4.2&nbsp;&nbsp;</span>Với mỗi cột có kiểu dữ liệu dạng categorical, các giá trị được phân bố như thế nào? (0.75đ)</a></span></li></ul></li><li><span><a href=\"#Đưa-ra-các-câu-hỏi-cần-trả-lời\" data-toc-modified-id=\"Đưa-ra-các-câu-hỏi-cần-trả-lời-5\"><span class=\"toc-item-num\">5&nbsp;&nbsp;</span>Đưa ra các câu hỏi cần trả lời</a></span></li></ul></div>"
   ]
  },
  {
   "cell_type": "markdown",
   "id": "8b94d5d4",
   "metadata": {},
   "source": [
    "# Đồ Án Cuối Kì Môn Lập Trình Cho Khoa Học Dữ Liệu\n",
    "\n",
    "**Chủ đề: .**\n",
    "\n",
    "Cảm hứng, ý tưởng \n",
    "\n",
    "\n",
    "\n",
    "**Giới thiệu thành viên**\n",
    "\n",
    "- *Họ tên:* **Trần Ngọc Tịnh**       \n",
    "  *MSSV:* **18120597**\n",
    "  \n",
    "  \n",
    "  \n",
    "  \n",
    "- *Họ tên:* **Đặng Minh Thọ**       \n",
    "  *MSSV:* **1812679**\n",
    "  \n",
    "  \n",
    " \n",
    "  "
   ]
  },
  {
   "cell_type": "markdown",
   "id": "8b4f948a",
   "metadata": {},
   "source": [
    "**Kiểm tra môi trường `code`**"
   ]
  },
  {
   "cell_type": "code",
   "execution_count": 7,
   "id": "30f8f0ae",
   "metadata": {
    "scrolled": true
   },
   "outputs": [
    {
     "name": "stdout",
     "output_type": "stream",
     "text": [
      "/home/tinhtran/anaconda3/envs/p4ds-env/bin/python\n"
     ]
    }
   ],
   "source": [
    "!which python "
   ]
  },
  {
   "cell_type": "markdown",
   "id": "ed25f70a",
   "metadata": {},
   "source": [
    "## Import các thư viện cần thiết"
   ]
  },
  {
   "cell_type": "code",
   "execution_count": 8,
   "id": "4ae4246a",
   "metadata": {},
   "outputs": [],
   "source": [
    "import pandas as pd\n",
    "import matplotlib.pyplot as plt\n",
    "import numpy as np"
   ]
  },
  {
   "cell_type": "markdown",
   "id": "ed3f3e13",
   "metadata": {},
   "source": [
    "## Thu thập dữ liệu\n",
    "\n",
    "Trong đồ án cuối kì này, em sẽ sử dụng dữ liệu đã được thu thập sẵn được tìm thấy thông qua  Kaggle. Đây là dữ liệu về khí thải Carbon Dioxide (CO2) của các quốc gia trên thế giới, đây là một trong những khí chính gây ra hiện tượng hiệu ứng nhà kính hiện nay . Dữ liệu này đã được thu thập sẵn, nguồn gốc của dữ liệu ở trang web [ourworldindata](https://ourworldindata.org/)."
   ]
  },
  {
   "cell_type": "markdown",
   "id": "e29ec425-9557-4a3d-911e-213de6a21511",
   "metadata": {},
   "source": [
    "## Khám phá dữ liệu"
   ]
  },
  {
   "cell_type": "markdown",
   "id": "7245a853",
   "metadata": {},
   "source": [
    "### Đọc dữ liệu từ file csv vào dataframe"
   ]
  },
  {
   "cell_type": "markdown",
   "id": "a8869a83-0930-4b05-83db-4cf482bb2e3b",
   "metadata": {},
   "source": [
    "Tập về dữ liệu Co2"
   ]
  },
  {
   "cell_type": "code",
   "execution_count": 9,
   "id": "44d9561d",
   "metadata": {},
   "outputs": [
    {
     "data": {
      "text/html": [
       "<div>\n",
       "<style scoped>\n",
       "    .dataframe tbody tr th:only-of-type {\n",
       "        vertical-align: middle;\n",
       "    }\n",
       "\n",
       "    .dataframe tbody tr th {\n",
       "        vertical-align: top;\n",
       "    }\n",
       "\n",
       "    .dataframe thead th {\n",
       "        text-align: right;\n",
       "    }\n",
       "</style>\n",
       "<table border=\"1\" class=\"dataframe\">\n",
       "  <thead>\n",
       "    <tr style=\"text-align: right;\">\n",
       "      <th></th>\n",
       "      <th>Entity</th>\n",
       "      <th>Code</th>\n",
       "      <th>Year</th>\n",
       "      <th>Annual CO₂ emissions (tonnes )</th>\n",
       "    </tr>\n",
       "  </thead>\n",
       "  <tbody>\n",
       "    <tr>\n",
       "      <th>0</th>\n",
       "      <td>Afghanistan</td>\n",
       "      <td>AFG</td>\n",
       "      <td>1949</td>\n",
       "      <td>14656.0</td>\n",
       "    </tr>\n",
       "    <tr>\n",
       "      <th>1</th>\n",
       "      <td>Afghanistan</td>\n",
       "      <td>AFG</td>\n",
       "      <td>1950</td>\n",
       "      <td>84272.0</td>\n",
       "    </tr>\n",
       "    <tr>\n",
       "      <th>2</th>\n",
       "      <td>Afghanistan</td>\n",
       "      <td>AFG</td>\n",
       "      <td>1951</td>\n",
       "      <td>91600.0</td>\n",
       "    </tr>\n",
       "    <tr>\n",
       "      <th>3</th>\n",
       "      <td>Afghanistan</td>\n",
       "      <td>AFG</td>\n",
       "      <td>1952</td>\n",
       "      <td>91600.0</td>\n",
       "    </tr>\n",
       "    <tr>\n",
       "      <th>4</th>\n",
       "      <td>Afghanistan</td>\n",
       "      <td>AFG</td>\n",
       "      <td>1953</td>\n",
       "      <td>106256.0</td>\n",
       "    </tr>\n",
       "  </tbody>\n",
       "</table>\n",
       "</div>"
      ],
      "text/plain": [
       "        Entity Code  Year  Annual CO₂ emissions (tonnes )\n",
       "0  Afghanistan  AFG  1949                         14656.0\n",
       "1  Afghanistan  AFG  1950                         84272.0\n",
       "2  Afghanistan  AFG  1951                         91600.0\n",
       "3  Afghanistan  AFG  1952                         91600.0\n",
       "4  Afghanistan  AFG  1953                        106256.0"
      ]
     },
     "execution_count": 9,
     "metadata": {},
     "output_type": "execute_result"
    }
   ],
   "source": [
    "co2_df = pd.read_csv('co2_emission.csv')\n",
    "co2_df.head()"
   ]
  },
  {
   "cell_type": "markdown",
   "id": "8e0045d3-7aaa-492a-9f19-18cbb9e972cb",
   "metadata": {},
   "source": [
    "Tập về dữ liệu population."
   ]
  },
  {
   "cell_type": "code",
   "execution_count": 10,
   "id": "5b06fbb7-68d7-49d0-ae4e-84242b1a599f",
   "metadata": {},
   "outputs": [
    {
     "data": {
      "text/html": [
       "<div>\n",
       "<style scoped>\n",
       "    .dataframe tbody tr th:only-of-type {\n",
       "        vertical-align: middle;\n",
       "    }\n",
       "\n",
       "    .dataframe tbody tr th {\n",
       "        vertical-align: top;\n",
       "    }\n",
       "\n",
       "    .dataframe thead th {\n",
       "        text-align: right;\n",
       "    }\n",
       "</style>\n",
       "<table border=\"1\" class=\"dataframe\">\n",
       "  <thead>\n",
       "    <tr style=\"text-align: right;\">\n",
       "      <th></th>\n",
       "      <th>Country</th>\n",
       "      <th>Country_Code</th>\n",
       "      <th>Year_1960</th>\n",
       "      <th>Year_1961</th>\n",
       "      <th>Year_1962</th>\n",
       "      <th>Year_1963</th>\n",
       "      <th>Year_1964</th>\n",
       "      <th>Year_1965</th>\n",
       "      <th>Year_1966</th>\n",
       "      <th>Year_1967</th>\n",
       "      <th>...</th>\n",
       "      <th>Year_2007</th>\n",
       "      <th>Year_2008</th>\n",
       "      <th>Year_2009</th>\n",
       "      <th>Year_2010</th>\n",
       "      <th>Year_2011</th>\n",
       "      <th>Year_2012</th>\n",
       "      <th>Year_2013</th>\n",
       "      <th>Year_2014</th>\n",
       "      <th>Year_2015</th>\n",
       "      <th>Year_2016</th>\n",
       "    </tr>\n",
       "  </thead>\n",
       "  <tbody>\n",
       "    <tr>\n",
       "      <th>0</th>\n",
       "      <td>Aruba</td>\n",
       "      <td>ABW</td>\n",
       "      <td>54211.0</td>\n",
       "      <td>55438.0</td>\n",
       "      <td>56225.0</td>\n",
       "      <td>56695.0</td>\n",
       "      <td>57032.0</td>\n",
       "      <td>57360.0</td>\n",
       "      <td>57715.0</td>\n",
       "      <td>58055.0</td>\n",
       "      <td>...</td>\n",
       "      <td>101220.0</td>\n",
       "      <td>101353.0</td>\n",
       "      <td>101453.0</td>\n",
       "      <td>101669.0</td>\n",
       "      <td>102053.0</td>\n",
       "      <td>102577.0</td>\n",
       "      <td>103187.0</td>\n",
       "      <td>103795.0</td>\n",
       "      <td>104341.0</td>\n",
       "      <td>104822.0</td>\n",
       "    </tr>\n",
       "    <tr>\n",
       "      <th>1</th>\n",
       "      <td>Afghanistan</td>\n",
       "      <td>AFG</td>\n",
       "      <td>8996351.0</td>\n",
       "      <td>9166764.0</td>\n",
       "      <td>9345868.0</td>\n",
       "      <td>9533954.0</td>\n",
       "      <td>9731361.0</td>\n",
       "      <td>9938414.0</td>\n",
       "      <td>10152331.0</td>\n",
       "      <td>10372630.0</td>\n",
       "      <td>...</td>\n",
       "      <td>26616792.0</td>\n",
       "      <td>27294031.0</td>\n",
       "      <td>28004331.0</td>\n",
       "      <td>28803167.0</td>\n",
       "      <td>29708599.0</td>\n",
       "      <td>30696958.0</td>\n",
       "      <td>31731688.0</td>\n",
       "      <td>32758020.0</td>\n",
       "      <td>33736494.0</td>\n",
       "      <td>34656032.0</td>\n",
       "    </tr>\n",
       "    <tr>\n",
       "      <th>2</th>\n",
       "      <td>Angola</td>\n",
       "      <td>AGO</td>\n",
       "      <td>5643182.0</td>\n",
       "      <td>5753024.0</td>\n",
       "      <td>5866061.0</td>\n",
       "      <td>5980417.0</td>\n",
       "      <td>6093321.0</td>\n",
       "      <td>6203299.0</td>\n",
       "      <td>6309770.0</td>\n",
       "      <td>6414995.0</td>\n",
       "      <td>...</td>\n",
       "      <td>20997687.0</td>\n",
       "      <td>21759420.0</td>\n",
       "      <td>22549547.0</td>\n",
       "      <td>23369131.0</td>\n",
       "      <td>24218565.0</td>\n",
       "      <td>25096150.0</td>\n",
       "      <td>25998340.0</td>\n",
       "      <td>26920466.0</td>\n",
       "      <td>27859305.0</td>\n",
       "      <td>28813463.0</td>\n",
       "    </tr>\n",
       "    <tr>\n",
       "      <th>3</th>\n",
       "      <td>Albania</td>\n",
       "      <td>ALB</td>\n",
       "      <td>1608800.0</td>\n",
       "      <td>1659800.0</td>\n",
       "      <td>1711319.0</td>\n",
       "      <td>1762621.0</td>\n",
       "      <td>1814135.0</td>\n",
       "      <td>1864791.0</td>\n",
       "      <td>1914573.0</td>\n",
       "      <td>1965598.0</td>\n",
       "      <td>...</td>\n",
       "      <td>2970017.0</td>\n",
       "      <td>2947314.0</td>\n",
       "      <td>2927519.0</td>\n",
       "      <td>2913021.0</td>\n",
       "      <td>2905195.0</td>\n",
       "      <td>2900401.0</td>\n",
       "      <td>2895092.0</td>\n",
       "      <td>2889104.0</td>\n",
       "      <td>2880703.0</td>\n",
       "      <td>2876101.0</td>\n",
       "    </tr>\n",
       "    <tr>\n",
       "      <th>4</th>\n",
       "      <td>Andorra</td>\n",
       "      <td>AND</td>\n",
       "      <td>13411.0</td>\n",
       "      <td>14375.0</td>\n",
       "      <td>15370.0</td>\n",
       "      <td>16412.0</td>\n",
       "      <td>17469.0</td>\n",
       "      <td>18549.0</td>\n",
       "      <td>19647.0</td>\n",
       "      <td>20758.0</td>\n",
       "      <td>...</td>\n",
       "      <td>82683.0</td>\n",
       "      <td>83861.0</td>\n",
       "      <td>84462.0</td>\n",
       "      <td>84449.0</td>\n",
       "      <td>83751.0</td>\n",
       "      <td>82431.0</td>\n",
       "      <td>80788.0</td>\n",
       "      <td>79223.0</td>\n",
       "      <td>78014.0</td>\n",
       "      <td>77281.0</td>\n",
       "    </tr>\n",
       "  </tbody>\n",
       "</table>\n",
       "<p>5 rows × 59 columns</p>\n",
       "</div>"
      ],
      "text/plain": [
       "       Country Country_Code  Year_1960  Year_1961  Year_1962  Year_1963  \\\n",
       "0        Aruba          ABW    54211.0    55438.0    56225.0    56695.0   \n",
       "1  Afghanistan          AFG  8996351.0  9166764.0  9345868.0  9533954.0   \n",
       "2       Angola          AGO  5643182.0  5753024.0  5866061.0  5980417.0   \n",
       "3      Albania          ALB  1608800.0  1659800.0  1711319.0  1762621.0   \n",
       "4      Andorra          AND    13411.0    14375.0    15370.0    16412.0   \n",
       "\n",
       "   Year_1964  Year_1965   Year_1966   Year_1967  ...   Year_2007   Year_2008  \\\n",
       "0    57032.0    57360.0     57715.0     58055.0  ...    101220.0    101353.0   \n",
       "1  9731361.0  9938414.0  10152331.0  10372630.0  ...  26616792.0  27294031.0   \n",
       "2  6093321.0  6203299.0   6309770.0   6414995.0  ...  20997687.0  21759420.0   \n",
       "3  1814135.0  1864791.0   1914573.0   1965598.0  ...   2970017.0   2947314.0   \n",
       "4    17469.0    18549.0     19647.0     20758.0  ...     82683.0     83861.0   \n",
       "\n",
       "    Year_2009   Year_2010   Year_2011   Year_2012   Year_2013   Year_2014  \\\n",
       "0    101453.0    101669.0    102053.0    102577.0    103187.0    103795.0   \n",
       "1  28004331.0  28803167.0  29708599.0  30696958.0  31731688.0  32758020.0   \n",
       "2  22549547.0  23369131.0  24218565.0  25096150.0  25998340.0  26920466.0   \n",
       "3   2927519.0   2913021.0   2905195.0   2900401.0   2895092.0   2889104.0   \n",
       "4     84462.0     84449.0     83751.0     82431.0     80788.0     79223.0   \n",
       "\n",
       "    Year_2015   Year_2016  \n",
       "0    104341.0    104822.0  \n",
       "1  33736494.0  34656032.0  \n",
       "2  27859305.0  28813463.0  \n",
       "3   2880703.0   2876101.0  \n",
       "4     78014.0     77281.0  \n",
       "\n",
       "[5 rows x 59 columns]"
      ]
     },
     "execution_count": 10,
     "metadata": {},
     "output_type": "execute_result"
    }
   ],
   "source": [
    "pop_df = pd.read_csv('population.csv')\n",
    "pop_df.head()"
   ]
  },
  {
   "cell_type": "markdown",
   "id": "b2400b24",
   "metadata": {},
   "source": [
    "### Dữ liệu gồm có bao nhiêu dòng và bao nhiêu cột?"
   ]
  },
  {
   "cell_type": "markdown",
   "id": "7e06f87c-9592-4b68-8532-9abc31978777",
   "metadata": {},
   "source": [
    "Tập dữ liệu `Co2`."
   ]
  },
  {
   "cell_type": "code",
   "execution_count": 11,
   "id": "9a45bb9e-31f4-44e3-b1dd-d2ad0e56d365",
   "metadata": {},
   "outputs": [
    {
     "data": {
      "text/plain": [
       "(20853, 4)"
      ]
     },
     "execution_count": 11,
     "metadata": {},
     "output_type": "execute_result"
    }
   ],
   "source": [
    "co2_df.shape"
   ]
  },
  {
   "cell_type": "markdown",
   "id": "e38845d0-0467-452b-ab45-1a81bd03efcd",
   "metadata": {},
   "source": [
    "Tập dữ liệu `Population`."
   ]
  },
  {
   "cell_type": "code",
   "execution_count": 12,
   "id": "29bc37b6-628d-44fb-979a-dec97ee72e6d",
   "metadata": {},
   "outputs": [
    {
     "data": {
      "text/plain": [
       "(263, 59)"
      ]
     },
     "execution_count": 12,
     "metadata": {},
     "output_type": "execute_result"
    }
   ],
   "source": [
    "pop_df.shape"
   ]
  },
  {
   "cell_type": "markdown",
   "id": "e799da18",
   "metadata": {},
   "source": [
    "### Mỗi dòng có ý nghĩa gì? Có vấn đề các dòng có ý nghĩa khác nhau không?"
   ]
  },
  {
   "cell_type": "markdown",
   "id": "779d0f5a-c34e-4ab0-9b87-1b12a7e05d19",
   "metadata": {},
   "source": [
    "- Tập dữ liệu `Co2`:\n",
    "    - Mỗi dòng cho biết các thông tin của một quốc gia liên quan đến các ảnh hưởng của khí Co2 trong một năm.\n",
    "    \n",
    "- Tập dữ liệu `Population`:\n",
    "    - Mỗi dòng cho biết các thông tin của một quốc gia liên quan đến các ảnh hưởng của khí Co2 trong 57 năm từ 1960 đến 2016.\n",
    "    \n",
    "Ở đây chúng ta muốn thống nhất tập `Population` có ý nghĩa dòng tương tự như `Co2`. Mỗi dòng cho biết các thông tin dân số  của một quốc gia trong một năm.\n",
    "\n",
    "Để làm được điều đó:\n",
    "   - Ta thêm một cột `Year` để xác định đó là năm nào.\n",
    "   - Cột `Population` ý nghĩa là dân số của một quốc gia vào năm `Year`.\n",
    "   - Sử dụng hàm `melt` của pandas.\n",
    "     "
   ]
  },
  {
   "cell_type": "code",
   "execution_count": 13,
   "id": "5f6a71ee-2bc6-49c3-9d82-d89bcc5126b6",
   "metadata": {},
   "outputs": [
    {
     "data": {
      "text/html": [
       "<div>\n",
       "<style scoped>\n",
       "    .dataframe tbody tr th:only-of-type {\n",
       "        vertical-align: middle;\n",
       "    }\n",
       "\n",
       "    .dataframe tbody tr th {\n",
       "        vertical-align: top;\n",
       "    }\n",
       "\n",
       "    .dataframe thead th {\n",
       "        text-align: right;\n",
       "    }\n",
       "</style>\n",
       "<table border=\"1\" class=\"dataframe\">\n",
       "  <thead>\n",
       "    <tr style=\"text-align: right;\">\n",
       "      <th></th>\n",
       "      <th>Country</th>\n",
       "      <th>Country_Code</th>\n",
       "      <th>Year</th>\n",
       "      <th>Population</th>\n",
       "    </tr>\n",
       "  </thead>\n",
       "  <tbody>\n",
       "    <tr>\n",
       "      <th>0</th>\n",
       "      <td>Aruba</td>\n",
       "      <td>ABW</td>\n",
       "      <td>Year_1960</td>\n",
       "      <td>54211.0</td>\n",
       "    </tr>\n",
       "    <tr>\n",
       "      <th>1</th>\n",
       "      <td>Afghanistan</td>\n",
       "      <td>AFG</td>\n",
       "      <td>Year_1960</td>\n",
       "      <td>8996351.0</td>\n",
       "    </tr>\n",
       "    <tr>\n",
       "      <th>2</th>\n",
       "      <td>Angola</td>\n",
       "      <td>AGO</td>\n",
       "      <td>Year_1960</td>\n",
       "      <td>5643182.0</td>\n",
       "    </tr>\n",
       "    <tr>\n",
       "      <th>3</th>\n",
       "      <td>Albania</td>\n",
       "      <td>ALB</td>\n",
       "      <td>Year_1960</td>\n",
       "      <td>1608800.0</td>\n",
       "    </tr>\n",
       "    <tr>\n",
       "      <th>4</th>\n",
       "      <td>Andorra</td>\n",
       "      <td>AND</td>\n",
       "      <td>Year_1960</td>\n",
       "      <td>13411.0</td>\n",
       "    </tr>\n",
       "  </tbody>\n",
       "</table>\n",
       "</div>"
      ],
      "text/plain": [
       "       Country Country_Code       Year  Population\n",
       "0        Aruba          ABW  Year_1960     54211.0\n",
       "1  Afghanistan          AFG  Year_1960   8996351.0\n",
       "2       Angola          AGO  Year_1960   5643182.0\n",
       "3      Albania          ALB  Year_1960   1608800.0\n",
       "4      Andorra          AND  Year_1960     13411.0"
      ]
     },
     "execution_count": 13,
     "metadata": {},
     "output_type": "execute_result"
    }
   ],
   "source": [
    "pop_df = pop_df.melt(id_vars=['Country','Country_Code'],var_name='Year',value_name='Population')\n",
    "pop_df.head()"
   ]
  },
  {
   "cell_type": "markdown",
   "id": "44054147",
   "metadata": {},
   "source": [
    "### Dữ liệu có các dòng bị lặp không?"
   ]
  },
  {
   "cell_type": "code",
   "execution_count": 14,
   "id": "81a6f227-37da-4d99-8774-2d878b2e3293",
   "metadata": {},
   "outputs": [
    {
     "data": {
      "text/plain": [
       "0"
      ]
     },
     "execution_count": 14,
     "metadata": {},
     "output_type": "execute_result"
    }
   ],
   "source": [
    "co2_df.duplicated().sum()"
   ]
  },
  {
   "cell_type": "code",
   "execution_count": 15,
   "id": "147ada68-95e5-44ad-99df-00c02564ad02",
   "metadata": {},
   "outputs": [
    {
     "data": {
      "text/plain": [
       "0"
      ]
     },
     "execution_count": 15,
     "metadata": {},
     "output_type": "execute_result"
    }
   ],
   "source": [
    "pop_df.duplicated().sum()"
   ]
  },
  {
   "cell_type": "markdown",
   "id": "3497bda5",
   "metadata": {},
   "source": [
    "### Mỗi cột có ý nghĩa gì?"
   ]
  },
  {
   "cell_type": "markdown",
   "id": "0cd78ea7-1d05-46a5-be4a-80a1c564ed79",
   "metadata": {},
   "source": [
    "- Tập dữ liệu `Co2`.\n",
    "    - `Entity`: Tên quốc gia.\n",
    "    - `Code`: Mã code của quốc gia.\n",
    "    - `Annual CO₂ emissions (tonnes )`: Lượng khí thải CO2 của quốc gia(tính theo đơn vị Tấn).\n",
    "    - `Year`: Xác định năm.\n",
    "\n",
    "- Tập dữ liệu `Population`.\n",
    "\n",
    "    - `Country`: Tên quốc gia.\n",
    "    - `Country_Code`: Mã code của quốc gia.\n",
    "    - `Population`: Dân số của quốc gia(tính theo đơn vị người).\n",
    "    - `Year`: Xác định năm.\n",
    " \n",
    " \n",
    "- Ở đây:\n",
    "    - Cột `Entity` ở tập dữ liệu `Co2` và cột `Country` ở tập dữ liệu `Population` có cùng ý nghĩa nhưng lại khác tên nhau. Nên em sẽ quyết định sửa tên cột `Entity` ở tậo dữ liệu `Co2` thành `Country`.\n",
    "    - Cột `Code` ở tập dữ liệu `Co2` và cột `Country_Code` ở tập dữ liệu `Population` có cùng ý nghĩa nhưng lại khác tên nhau. Nên em sẽ quyết định sửa tên cột `Country_Code` ở tậo dữ liệu `Population` thành `Code`.\n",
    "    - Cột `Annual CO₂ emissions (tonnes )` sẽ được đổi tên thành `Co2` để nhìn gon hơn."
   ]
  },
  {
   "cell_type": "code",
   "execution_count": 16,
   "id": "e23392d4-fac7-4f65-9599-aab7ab02672a",
   "metadata": {},
   "outputs": [
    {
     "data": {
      "text/html": [
       "<div>\n",
       "<style scoped>\n",
       "    .dataframe tbody tr th:only-of-type {\n",
       "        vertical-align: middle;\n",
       "    }\n",
       "\n",
       "    .dataframe tbody tr th {\n",
       "        vertical-align: top;\n",
       "    }\n",
       "\n",
       "    .dataframe thead th {\n",
       "        text-align: right;\n",
       "    }\n",
       "</style>\n",
       "<table border=\"1\" class=\"dataframe\">\n",
       "  <thead>\n",
       "    <tr style=\"text-align: right;\">\n",
       "      <th></th>\n",
       "      <th>Country</th>\n",
       "      <th>Code</th>\n",
       "      <th>Year</th>\n",
       "      <th>Co2</th>\n",
       "    </tr>\n",
       "  </thead>\n",
       "  <tbody>\n",
       "    <tr>\n",
       "      <th>0</th>\n",
       "      <td>Afghanistan</td>\n",
       "      <td>AFG</td>\n",
       "      <td>1949</td>\n",
       "      <td>14656.0</td>\n",
       "    </tr>\n",
       "    <tr>\n",
       "      <th>1</th>\n",
       "      <td>Afghanistan</td>\n",
       "      <td>AFG</td>\n",
       "      <td>1950</td>\n",
       "      <td>84272.0</td>\n",
       "    </tr>\n",
       "  </tbody>\n",
       "</table>\n",
       "</div>"
      ],
      "text/plain": [
       "       Country Code  Year      Co2\n",
       "0  Afghanistan  AFG  1949  14656.0\n",
       "1  Afghanistan  AFG  1950  84272.0"
      ]
     },
     "execution_count": 16,
     "metadata": {},
     "output_type": "execute_result"
    }
   ],
   "source": [
    "co2_df = co2_df.rename(columns={\"Entity\": \"Country\",\"Annual CO₂ emissions (tonnes )\":\"Co2\"})\n",
    "co2_df.head(2)"
   ]
  },
  {
   "cell_type": "code",
   "execution_count": 17,
   "id": "639eb4df-51b1-45bc-8264-27d3110b1143",
   "metadata": {},
   "outputs": [
    {
     "data": {
      "text/html": [
       "<div>\n",
       "<style scoped>\n",
       "    .dataframe tbody tr th:only-of-type {\n",
       "        vertical-align: middle;\n",
       "    }\n",
       "\n",
       "    .dataframe tbody tr th {\n",
       "        vertical-align: top;\n",
       "    }\n",
       "\n",
       "    .dataframe thead th {\n",
       "        text-align: right;\n",
       "    }\n",
       "</style>\n",
       "<table border=\"1\" class=\"dataframe\">\n",
       "  <thead>\n",
       "    <tr style=\"text-align: right;\">\n",
       "      <th></th>\n",
       "      <th>Country</th>\n",
       "      <th>Code</th>\n",
       "      <th>Year</th>\n",
       "      <th>Population</th>\n",
       "    </tr>\n",
       "  </thead>\n",
       "  <tbody>\n",
       "    <tr>\n",
       "      <th>0</th>\n",
       "      <td>Aruba</td>\n",
       "      <td>ABW</td>\n",
       "      <td>Year_1960</td>\n",
       "      <td>54211.0</td>\n",
       "    </tr>\n",
       "    <tr>\n",
       "      <th>1</th>\n",
       "      <td>Afghanistan</td>\n",
       "      <td>AFG</td>\n",
       "      <td>Year_1960</td>\n",
       "      <td>8996351.0</td>\n",
       "    </tr>\n",
       "  </tbody>\n",
       "</table>\n",
       "</div>"
      ],
      "text/plain": [
       "       Country Code       Year  Population\n",
       "0        Aruba  ABW  Year_1960     54211.0\n",
       "1  Afghanistan  AFG  Year_1960   8996351.0"
      ]
     },
     "execution_count": 17,
     "metadata": {},
     "output_type": "execute_result"
    }
   ],
   "source": [
    "pop_df = pop_df.rename(columns={\"Country_Code\": \"Code\"})\n",
    "pop_df.head(2)"
   ]
  },
  {
   "cell_type": "markdown",
   "id": "f6073ec6",
   "metadata": {},
   "source": [
    "### Mỗi cột hiện đang có kiểu dữ liệu gì? Có cột nào có kiểu dữ liệu chưa phù hợp để có thể xử lý tiếp không?"
   ]
  },
  {
   "cell_type": "code",
   "execution_count": 18,
   "id": "263b3e6b-bdb8-4d81-833c-5af06cb06d14",
   "metadata": {},
   "outputs": [
    {
     "data": {
      "text/plain": [
       "Country     object\n",
       "Code        object\n",
       "Year         int64\n",
       "Co2        float64\n",
       "dtype: object"
      ]
     },
     "execution_count": 18,
     "metadata": {},
     "output_type": "execute_result"
    }
   ],
   "source": [
    "co2_df.dtypes"
   ]
  },
  {
   "cell_type": "code",
   "execution_count": 19,
   "id": "a70a584a-48da-48b1-89ff-72ae3a8d5306",
   "metadata": {},
   "outputs": [
    {
     "data": {
      "text/plain": [
       "Country        object\n",
       "Code           object\n",
       "Year           object\n",
       "Population    float64\n",
       "dtype: object"
      ]
     },
     "execution_count": 19,
     "metadata": {},
     "output_type": "execute_result"
    }
   ],
   "source": [
    "pop_df.dtypes"
   ]
  },
  {
   "cell_type": "markdown",
   "id": "ad7d9b2e-70f6-4acf-b6e0-beffb64376e9",
   "metadata": {},
   "source": [
    "Cột `Year` giữa 2 tập có kiểu dữ liệu khác nhau. Nguyên nhân là vì ở tập `Population` dữ liệu ban đầu có thêm chữ `Year_` phía trước. Vì thế ở đây em sẽ xóa bỏ chữ `Year_` phía trước sau đó chuyển về kiểu dữ liệu `int64` để đồng bộ."
   ]
  },
  {
   "cell_type": "code",
   "execution_count": 20,
   "id": "4d16734a-bc70-407a-9d99-6367049758bd",
   "metadata": {},
   "outputs": [],
   "source": [
    "pop_df[\"Year\"] = pop_df[\"Year\"].str.replace('Year_','').astype('int')"
   ]
  },
  {
   "cell_type": "markdown",
   "id": "15261f2d-cced-4faa-848e-d9dd3f09a6e5",
   "metadata": {},
   "source": [
    "Kiểm tra lại kiểu dữ liệu."
   ]
  },
  {
   "cell_type": "code",
   "execution_count": 21,
   "id": "c2350206-fe57-48c6-8360-ab27eba3dbd3",
   "metadata": {},
   "outputs": [
    {
     "data": {
      "text/plain": [
       "Country        object\n",
       "Code           object\n",
       "Year            int64\n",
       "Population    float64\n",
       "dtype: object"
      ]
     },
     "execution_count": 21,
     "metadata": {},
     "output_type": "execute_result"
    }
   ],
   "source": [
    "pop_df.dtypes"
   ]
  },
  {
   "cell_type": "markdown",
   "id": "0f0a4f47-78bf-46d9-b578-6fdea742ae5b",
   "metadata": {},
   "source": [
    "## Gộp 2 tập dữ liệu `Population` và `Co2`"
   ]
  },
  {
   "cell_type": "code",
   "execution_count": 22,
   "id": "0d272747-dc39-45e3-b635-3317250e1017",
   "metadata": {},
   "outputs": [
    {
     "data": {
      "text/plain": [
       "233"
      ]
     },
     "execution_count": 22,
     "metadata": {},
     "output_type": "execute_result"
    }
   ],
   "source": [
    "co2_df.Country.nunique()"
   ]
  },
  {
   "cell_type": "code",
   "execution_count": 23,
   "id": "f3a4bfeb-913e-4d0b-abbe-23cf43ce05c4",
   "metadata": {},
   "outputs": [
    {
     "data": {
      "text/plain": [
       "263"
      ]
     },
     "execution_count": 23,
     "metadata": {},
     "output_type": "execute_result"
    }
   ],
   "source": [
    "pop_df.Country.nunique()"
   ]
  },
  {
   "cell_type": "markdown",
   "id": "cb1f4ef5-0bc9-48ff-85b9-a74abd3aba35",
   "metadata": {},
   "source": [
    "- Sau khi chuẩn hóa các cột dữ liệu của 2 tập dữ liệu phù hợp, ta bắt đầu gộp 2 bảng này lại. Vấn đề:\n",
    "    - Tập dữ liệu `Co2`:\n",
    "       - Thống kê từ năm 1949 đến năm 2017.\n",
    "       - Có 233 Country.\n",
    "       \n",
    "    - Tập dữ liệu `Population` thống kê từ năm 1960 đến năm 2016.\n",
    "       - Thống kê từ năm 1960 đến năm 2016.\n",
    "       - Có 263 Country( Có thêm các đảo, thuộc địa...).\n",
    "       \n",
    "- Bảng sau khi gộp sẽ được thống kê từ năm 1960 đến năm 2016 và có 233 Country( Ở đây ta sử dụng `left join` để gộp) ."
   ]
  },
  {
   "cell_type": "code",
   "execution_count": 25,
   "id": "1898be12-d0f2-49cc-96e1-4c07048962ee",
   "metadata": {},
   "outputs": [
    {
     "data": {
      "text/html": [
       "<div>\n",
       "<style scoped>\n",
       "    .dataframe tbody tr th:only-of-type {\n",
       "        vertical-align: middle;\n",
       "    }\n",
       "\n",
       "    .dataframe tbody tr th {\n",
       "        vertical-align: top;\n",
       "    }\n",
       "\n",
       "    .dataframe thead th {\n",
       "        text-align: right;\n",
       "    }\n",
       "</style>\n",
       "<table border=\"1\" class=\"dataframe\">\n",
       "  <thead>\n",
       "    <tr style=\"text-align: right;\">\n",
       "      <th></th>\n",
       "      <th>Country</th>\n",
       "      <th>Code</th>\n",
       "      <th>Year</th>\n",
       "      <th>Co2</th>\n",
       "      <th>Population</th>\n",
       "    </tr>\n",
       "  </thead>\n",
       "  <tbody>\n",
       "    <tr>\n",
       "      <th>0</th>\n",
       "      <td>Afghanistan</td>\n",
       "      <td>AFG</td>\n",
       "      <td>1960</td>\n",
       "      <td>413883.42</td>\n",
       "      <td>8996351.0</td>\n",
       "    </tr>\n",
       "    <tr>\n",
       "      <th>1</th>\n",
       "      <td>Afghanistan</td>\n",
       "      <td>AFG</td>\n",
       "      <td>1961</td>\n",
       "      <td>490797.70</td>\n",
       "      <td>9166764.0</td>\n",
       "    </tr>\n",
       "    <tr>\n",
       "      <th>2</th>\n",
       "      <td>Afghanistan</td>\n",
       "      <td>AFG</td>\n",
       "      <td>1962</td>\n",
       "      <td>688594.27</td>\n",
       "      <td>9345868.0</td>\n",
       "    </tr>\n",
       "    <tr>\n",
       "      <th>3</th>\n",
       "      <td>Afghanistan</td>\n",
       "      <td>AFG</td>\n",
       "      <td>1963</td>\n",
       "      <td>706735.98</td>\n",
       "      <td>9533954.0</td>\n",
       "    </tr>\n",
       "    <tr>\n",
       "      <th>4</th>\n",
       "      <td>Afghanistan</td>\n",
       "      <td>AFG</td>\n",
       "      <td>1964</td>\n",
       "      <td>838550.83</td>\n",
       "      <td>9731361.0</td>\n",
       "    </tr>\n",
       "  </tbody>\n",
       "</table>\n",
       "</div>"
      ],
      "text/plain": [
       "       Country Code  Year        Co2  Population\n",
       "0  Afghanistan  AFG  1960  413883.42   8996351.0\n",
       "1  Afghanistan  AFG  1961  490797.70   9166764.0\n",
       "2  Afghanistan  AFG  1962  688594.27   9345868.0\n",
       "3  Afghanistan  AFG  1963  706735.98   9533954.0\n",
       "4  Afghanistan  AFG  1964  838550.83   9731361.0"
      ]
     },
     "execution_count": 25,
     "metadata": {},
     "output_type": "execute_result"
    }
   ],
   "source": [
    "df = (co2_df.loc[ (co2_df[\"Year\"] >= 1960) & (co2_df[\"Year\"] <= 2016)]).merge(pop_df,on=['Code','Country','Year'],how='left')\n",
    "df.head()"
   ]
  },
  {
   "cell_type": "markdown",
   "id": "cb5e5b6c",
   "metadata": {},
   "source": [
    "## Khám phá dữ liệu (tiếp tục)"
   ]
  },
  {
   "cell_type": "code",
   "execution_count": 27,
   "id": "333f400b-631a-4af4-af79-b99315f28ac7",
   "metadata": {},
   "outputs": [],
   "source": [
    "pd.set_option('display.float_format', lambda x: '%.1f' % x)\n",
    "def missing_ratio(s):\n",
    "    return s.isna().mean() * 100"
   ]
  },
  {
   "cell_type": "markdown",
   "id": "afe9caea-fc1f-4e1f-a447-cf9fd6ed1429",
   "metadata": {},
   "source": [
    "### Với mỗi cột có kiểu dữ liệu dạng numeric, các giá trị được phân bố như thế nào? (0.5đ)"
   ]
  },
  {
   "cell_type": "code",
   "execution_count": 28,
   "id": "5671fe34-a71d-41f5-ba20-c869bde55641",
   "metadata": {},
   "outputs": [
    {
     "data": {
      "text/html": [
       "<div>\n",
       "<style scoped>\n",
       "    .dataframe tbody tr th:only-of-type {\n",
       "        vertical-align: middle;\n",
       "    }\n",
       "\n",
       "    .dataframe tbody tr th {\n",
       "        vertical-align: top;\n",
       "    }\n",
       "\n",
       "    .dataframe thead th {\n",
       "        text-align: right;\n",
       "    }\n",
       "</style>\n",
       "<table border=\"1\" class=\"dataframe\">\n",
       "  <thead>\n",
       "    <tr style=\"text-align: right;\">\n",
       "      <th></th>\n",
       "      <th>Year</th>\n",
       "      <th>Co2</th>\n",
       "      <th>Population</th>\n",
       "    </tr>\n",
       "  </thead>\n",
       "  <tbody>\n",
       "    <tr>\n",
       "      <th>missing_ratio</th>\n",
       "      <td>0.0</td>\n",
       "      <td>0.0</td>\n",
       "      <td>21.9</td>\n",
       "    </tr>\n",
       "    <tr>\n",
       "      <th>min</th>\n",
       "      <td>1960.0</td>\n",
       "      <td>-625522256.7</td>\n",
       "      <td>5500.0</td>\n",
       "    </tr>\n",
       "    <tr>\n",
       "      <th>max</th>\n",
       "      <td>2016.0</td>\n",
       "      <td>35675099439.0</td>\n",
       "      <td>1378665000.0</td>\n",
       "    </tr>\n",
       "  </tbody>\n",
       "</table>\n",
       "</div>"
      ],
      "text/plain": [
       "                Year           Co2   Population\n",
       "missing_ratio    0.0           0.0         21.9\n",
       "min           1960.0  -625522256.7       5500.0\n",
       "max           2016.0 35675099439.0 1378665000.0"
      ]
     },
     "execution_count": 28,
     "metadata": {},
     "output_type": "execute_result"
    }
   ],
   "source": [
    "df.loc[:,[\"Year\",\"Co2\",\"Population\"]].agg([missing_ratio,pd.Series.min,pd.Series.max])"
   ]
  },
  {
   "cell_type": "markdown",
   "id": "1a20c40f-7ed6-45b2-8e27-18e2d471b3af",
   "metadata": {},
   "source": [
    "Nhận xét:\n",
    "\n",
    "   - Cột `Population` có tỉ lệ thiếu là 21.9%, nguyên nhân là:\n",
    "        - Có các quốc gia có trong tập dữ liệu `Co2` nhưng không có trong tập dữ liệu `Population`.\n",
    "        - Dữ liệu thiếu sẵn.\n",
    "        \n",
    "        \n",
    "   - Giá trị min của cột Co2 là -625522256.7, đây là giá trị âm. Khi hiển thị xem nguyên nhân các giá trị này đến từ đâu thì ta có thể thấy chúng tất cả có cột `Country` là \"Statistical differences\", đây là các giá trị khác biệt khi chúng ta thống kê dữ liệu. Do đó chúng ta sẽ xóa các dòng này đi."
   ]
  },
  {
   "cell_type": "code",
   "execution_count": 29,
   "id": "28cdea90-facb-4e80-9bad-6e1f04bc0b31",
   "metadata": {},
   "outputs": [
    {
     "data": {
      "text/html": [
       "<div>\n",
       "<style scoped>\n",
       "    .dataframe tbody tr th:only-of-type {\n",
       "        vertical-align: middle;\n",
       "    }\n",
       "\n",
       "    .dataframe tbody tr th {\n",
       "        vertical-align: top;\n",
       "    }\n",
       "\n",
       "    .dataframe thead th {\n",
       "        text-align: right;\n",
       "    }\n",
       "</style>\n",
       "<table border=\"1\" class=\"dataframe\">\n",
       "  <thead>\n",
       "    <tr style=\"text-align: right;\">\n",
       "      <th></th>\n",
       "      <th>Country</th>\n",
       "      <th>Code</th>\n",
       "      <th>Year</th>\n",
       "      <th>Co2</th>\n",
       "      <th>Population</th>\n",
       "    </tr>\n",
       "  </thead>\n",
       "  <tbody>\n",
       "    <tr>\n",
       "      <th>10739</th>\n",
       "      <td>Statistical differences</td>\n",
       "      <td>NaN</td>\n",
       "      <td>2005</td>\n",
       "      <td>-212372213.8</td>\n",
       "      <td>NaN</td>\n",
       "    </tr>\n",
       "    <tr>\n",
       "      <th>10722</th>\n",
       "      <td>Statistical differences</td>\n",
       "      <td>NaN</td>\n",
       "      <td>1988</td>\n",
       "      <td>-315239568.0</td>\n",
       "      <td>NaN</td>\n",
       "    </tr>\n",
       "  </tbody>\n",
       "</table>\n",
       "</div>"
      ],
      "text/plain": [
       "                       Country Code  Year          Co2  Population\n",
       "10739  Statistical differences  NaN  2005 -212372213.8         NaN\n",
       "10722  Statistical differences  NaN  1988 -315239568.0         NaN"
      ]
     },
     "execution_count": 29,
     "metadata": {},
     "output_type": "execute_result"
    }
   ],
   "source": [
    "df.loc[df[\"Co2\"]<0].sample(2)"
   ]
  },
  {
   "cell_type": "code",
   "execution_count": 30,
   "id": "c922ef5a-bf1c-4844-bee6-66902378677d",
   "metadata": {},
   "outputs": [],
   "source": [
    "df.drop(df[df['Country']=='Statistical differences'].index,inplace=True)"
   ]
  },
  {
   "cell_type": "markdown",
   "id": "da61faa2",
   "metadata": {},
   "source": [
    "### Với mỗi cột có kiểu dữ liệu dạng categorical, các giá trị được phân bố như thế nào?"
   ]
  },
  {
   "cell_type": "code",
   "execution_count": 31,
   "id": "ae503d80-6bc3-4a27-8d68-54d83a51c4a5",
   "metadata": {},
   "outputs": [
    {
     "data": {
      "text/html": [
       "<div>\n",
       "<style scoped>\n",
       "    .dataframe tbody tr th:only-of-type {\n",
       "        vertical-align: middle;\n",
       "    }\n",
       "\n",
       "    .dataframe tbody tr th {\n",
       "        vertical-align: top;\n",
       "    }\n",
       "\n",
       "    .dataframe thead th {\n",
       "        text-align: right;\n",
       "    }\n",
       "</style>\n",
       "<table border=\"1\" class=\"dataframe\">\n",
       "  <thead>\n",
       "    <tr style=\"text-align: right;\">\n",
       "      <th></th>\n",
       "      <th>Country</th>\n",
       "      <th>Code</th>\n",
       "    </tr>\n",
       "  </thead>\n",
       "  <tbody>\n",
       "    <tr>\n",
       "      <th>missing_ratio</th>\n",
       "      <td>0.0</td>\n",
       "      <td>3.8</td>\n",
       "    </tr>\n",
       "    <tr>\n",
       "      <th>nunique</th>\n",
       "      <td>232</td>\n",
       "      <td>222</td>\n",
       "    </tr>\n",
       "    <tr>\n",
       "      <th>unique</th>\n",
       "      <td>[Afghanistan, Africa, Albania, Algeria, Americ...</td>\n",
       "      <td>[AFG, nan, ALB, DZA, AND, AGO, AIA, ATG, ARG, ...</td>\n",
       "    </tr>\n",
       "  </tbody>\n",
       "</table>\n",
       "</div>"
      ],
      "text/plain": [
       "                                                         Country  \\\n",
       "missing_ratio                                                0.0   \n",
       "nunique                                                      232   \n",
       "unique         [Afghanistan, Africa, Albania, Algeria, Americ...   \n",
       "\n",
       "                                                            Code  \n",
       "missing_ratio                                                3.8  \n",
       "nunique                                                      222  \n",
       "unique         [AFG, nan, ALB, DZA, AND, AGO, AIA, ATG, ARG, ...  "
      ]
     },
     "execution_count": 31,
     "metadata": {},
     "output_type": "execute_result"
    }
   ],
   "source": [
    "df.loc[:,[\"Country\",\"Code\"]].agg([missing_ratio,pd.Series.nunique,pd.Series.unique])"
   ]
  },
  {
   "cell_type": "markdown",
   "id": "0c5368b1-77eb-4ff5-bd90-cd8a8753bb8b",
   "metadata": {},
   "source": [
    "- Nhận xét:\n",
    "    - Hai cột Country và Code có ý nghĩa là định danh của các quốc gia nhưng:\n",
    "        - Số lượng giá trị khác nhau của cột `Country` lại lớn hơn cột `Code` là 1, do đó ta có thể đoán được tỉ lệ thiếu 3.8% đến từ giá trị đó.\n",
    "        - Gía trị thiếu này có thể nguyên nhân từ dữ liệu gốc ban đầu. Sau khi dùng pandas thì ta biết được quốc gia có giá trị Code thiếu đó là `Afrrica`."
   ]
  },
  {
   "cell_type": "code",
   "execution_count": 33,
   "id": "75bcda67-07db-4577-8a40-88aaffa1eb27",
   "metadata": {},
   "outputs": [
    {
     "data": {
      "text/html": [
       "<div>\n",
       "<style scoped>\n",
       "    .dataframe tbody tr th:only-of-type {\n",
       "        vertical-align: middle;\n",
       "    }\n",
       "\n",
       "    .dataframe tbody tr th {\n",
       "        vertical-align: top;\n",
       "    }\n",
       "\n",
       "    .dataframe thead th {\n",
       "        text-align: right;\n",
       "    }\n",
       "</style>\n",
       "<table border=\"1\" class=\"dataframe\">\n",
       "  <thead>\n",
       "    <tr style=\"text-align: right;\">\n",
       "      <th></th>\n",
       "      <th>Country</th>\n",
       "      <th>Code</th>\n",
       "      <th>Year</th>\n",
       "      <th>Co2</th>\n",
       "      <th>Population</th>\n",
       "    </tr>\n",
       "  </thead>\n",
       "  <tbody>\n",
       "    <tr>\n",
       "      <th>57</th>\n",
       "      <td>Africa</td>\n",
       "      <td>NaN</td>\n",
       "      <td>1960</td>\n",
       "      <td>156567067.8</td>\n",
       "      <td>NaN</td>\n",
       "    </tr>\n",
       "    <tr>\n",
       "      <th>58</th>\n",
       "      <td>Africa</td>\n",
       "      <td>NaN</td>\n",
       "      <td>1961</td>\n",
       "      <td>161994254.1</td>\n",
       "      <td>NaN</td>\n",
       "    </tr>\n",
       "    <tr>\n",
       "      <th>59</th>\n",
       "      <td>Africa</td>\n",
       "      <td>NaN</td>\n",
       "      <td>1962</td>\n",
       "      <td>166334786.6</td>\n",
       "      <td>NaN</td>\n",
       "    </tr>\n",
       "  </tbody>\n",
       "</table>\n",
       "</div>"
      ],
      "text/plain": [
       "   Country Code  Year         Co2  Population\n",
       "57  Africa  NaN  1960 156567067.8         NaN\n",
       "58  Africa  NaN  1961 161994254.1         NaN\n",
       "59  Africa  NaN  1962 166334786.6         NaN"
      ]
     },
     "execution_count": 33,
     "metadata": {},
     "output_type": "execute_result"
    }
   ],
   "source": [
    "df.loc[df[\"Code\"].isna()].head(3)"
   ]
  },
  {
   "cell_type": "markdown",
   "id": "384c6c5b",
   "metadata": {},
   "source": [
    "## Đưa ra các câu hỏi cần trả lời"
   ]
  },
  {
   "cell_type": "markdown",
   "id": "edd21668-295c-4ffb-9fb8-9305d235213b",
   "metadata": {},
   "source": [
    "Sau khi đã khám phá và hiểu hơn về dữ liệu, em có đưa ra một câu hỏi như sau:\n",
    "    - Số lượng Co2 thải ra trung bình của Việt Nam từ năm 1960 đến 2016 đồ thị như thế nào, năm nào cao nhất."
   ]
  }
 ],
 "metadata": {
  "kernelspec": {
   "display_name": "Python 3",
   "language": "python",
   "name": "python3"
  },
  "language_info": {
   "codemirror_mode": {
    "name": "ipython",
    "version": 3
   },
   "file_extension": ".py",
   "mimetype": "text/x-python",
   "name": "python",
   "nbconvert_exporter": "python",
   "pygments_lexer": "ipython3",
   "version": "3.8.8"
  },
  "toc": {
   "base_numbering": 1,
   "nav_menu": {},
   "number_sections": true,
   "sideBar": true,
   "skip_h1_title": true,
   "title_cell": "Mục Lục",
   "title_sidebar": "Contents",
   "toc_cell": true,
   "toc_position": {},
   "toc_section_display": true,
   "toc_window_display": true
  }
 },
 "nbformat": 4,
 "nbformat_minor": 5
}
